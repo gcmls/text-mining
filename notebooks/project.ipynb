{
 "cells": [
  {
   "cell_type": "markdown",
   "id": "8d55b756",
   "metadata": {
    "id": "8d55b756"
   },
   "source": [
    "# Text Mining Project\n",
    "## <span style=\"color:blue\">Group</span>\n",
    "<span style=\"color:blue\">Beatriz Gonçalves - 20210695 | Gonçalo Lopes - 20210679 | Guilherme Simões - 20211003<span/>"
   ]
  },
  {
   "cell_type": "code",
   "execution_count": 1,
   "id": "158f5066",
   "metadata": {
    "executionInfo": {
     "elapsed": 2,
     "status": "ok",
     "timestamp": 1653046290387,
     "user": {
      "displayName": "Guilherme Simões",
      "userId": "17910731118261220450"
     },
     "user_tz": -60
    },
    "id": "158f5066"
   },
   "outputs": [],
   "source": [
    "# Data Import\n",
    "import os\n",
    "import numpy as np\n",
    "import pandas as pd\n",
    "import random\n",
    "import re\n",
    "\n",
    "# Text Preprocessing\n",
    "import nltk\n",
    "from nltk.corpus import stopwords\n",
    "from nltk.stem.wordnet import WordNetLemmatizer\n",
    "from nltk.tokenize import word_tokenize\n",
    "from nltk.corpus import wordnet\n",
    "from nltk.stem import SnowballStemmer\n",
    "from bs4 import BeautifulSoup\n",
    "import string\n",
    "from tqdm import tqdm_notebook as tqdm\n",
    "\n",
    "# Count Vectorizer and TF-IDF\n",
    "from sklearn.feature_extraction.text import CountVectorizer, TfidfTransformer, TfidfVectorizer\n",
    "\n",
    "# KNN\n",
    "from sklearn.neighbors import KNeighborsClassifier\n",
    "\n",
    "# XGBoost\n",
    "import xgboost as xgb\n",
    "from sklearn.preprocessing import LabelEncoder\n",
    "\n",
    "# SVC\n",
    "from sklearn import svm\n",
    "\n",
    "# Random Forest\n",
    "from sklearn.ensemble import RandomForestClassifier\n",
    "\n",
    "# Classification Report and Confusion Matrix\n",
    "from sklearn.metrics import classification_report, accuracy_score, confusion_matrix\n",
    "import matplotlib.pyplot as plt\n",
    "\n",
    "import warnings\n",
    "warnings.filterwarnings(\"ignore\")"
   ]
  },
  {
   "cell_type": "markdown",
   "id": "6f388d9b",
   "metadata": {
    "id": "6f388d9b"
   },
   "source": [
    "## 1. Data import"
   ]
  },
  {
   "cell_type": "code",
   "execution_count": 2,
   "id": "fd2d2f33",
   "metadata": {
    "executionInfo": {
     "elapsed": 845,
     "status": "ok",
     "timestamp": 1653046294601,
     "user": {
      "displayName": "Guilherme Simões",
      "userId": "17910731118261220450"
     },
     "user_tz": -60
    },
    "id": "fd2d2f33"
   },
   "outputs": [],
   "source": [
    "def dataImport(filename):\n",
    "    # Open the .txt file\n",
    "    df = open(filename, \"r\")\n",
    "    lines = df.readlines() # Separate every line\n",
    "    df.close()\n",
    "\n",
    "    values = []\n",
    "    columns = []\n",
    "\n",
    "    # Remove /n at the end of each line and separate the sentence from the emotion\n",
    "    for index, line in enumerate(lines):\n",
    "        values.append(line.strip().split('\\t'))\n",
    "        columns = values[0]\n",
    "\n",
    "    values.pop(0) # Remove the columns name\n",
    "\n",
    "    # Create a dataframe and convert the data to 2 columns\n",
    "    df = pd.DataFrame(data=values, columns=columns)\n",
    "    \n",
    "    return df"
   ]
  },
  {
   "cell_type": "code",
   "execution_count": 3,
   "id": "8f2634b3",
   "metadata": {
    "colab": {
     "base_uri": "https://localhost:8080/",
     "height": 304
    },
    "executionInfo": {
     "elapsed": 3,
     "status": "error",
     "timestamp": 1653046295670,
     "user": {
      "displayName": "Guilherme Simões",
      "userId": "17910731118261220450"
     },
     "user_tz": -60
    },
    "id": "8f2634b3",
    "outputId": "e89464dc-4b28-4c82-c6b6-9229b603543d"
   },
   "outputs": [],
   "source": [
    "df_train = dataImport('Data-20220509/training_set.txt')\n",
    "df_dev = dataImport('Data-20220509/dev_set.txt')\n",
    "df_test = dataImport('Data-20220509/test_set.txt')"
   ]
  },
  {
   "cell_type": "code",
   "execution_count": 4,
   "id": "a9c11bdd",
   "metadata": {
    "colab": {
     "base_uri": "https://localhost:8080/",
     "height": 206
    },
    "executionInfo": {
     "elapsed": 273,
     "status": "ok",
     "timestamp": 1653046305382,
     "user": {
      "displayName": "Guilherme Simões",
      "userId": "17910731118261220450"
     },
     "user_tz": -60
    },
    "id": "a9c11bdd",
    "outputId": "ecd3ec5d-e8c0-4cd3-a7b5-08497f928d44"
   },
   "outputs": [
    {
     "data": {
      "text/html": [
       "<div>\n",
       "<style scoped>\n",
       "    .dataframe tbody tr th:only-of-type {\n",
       "        vertical-align: middle;\n",
       "    }\n",
       "\n",
       "    .dataframe tbody tr th {\n",
       "        vertical-align: top;\n",
       "    }\n",
       "\n",
       "    .dataframe thead th {\n",
       "        text-align: right;\n",
       "    }\n",
       "</style>\n",
       "<table border=\"1\" class=\"dataframe\">\n",
       "  <thead>\n",
       "    <tr style=\"text-align: right;\">\n",
       "      <th></th>\n",
       "      <th>sentence</th>\n",
       "      <th>emotion</th>\n",
       "    </tr>\n",
       "  </thead>\n",
       "  <tbody>\n",
       "    <tr>\n",
       "      <th>0</th>\n",
       "      <td>I'm too old to be traded in .</td>\n",
       "      <td>6</td>\n",
       "    </tr>\n",
       "    <tr>\n",
       "      <th>1</th>\n",
       "      <td>Mother said you could always tell a lady by he...</td>\n",
       "      <td>8</td>\n",
       "    </tr>\n",
       "    <tr>\n",
       "      <th>2</th>\n",
       "      <td>I always said I'd leave off when the time came .</td>\n",
       "      <td>6</td>\n",
       "    </tr>\n",
       "    <tr>\n",
       "      <th>3</th>\n",
       "      <td>He'll be safe with me .</td>\n",
       "      <td>2</td>\n",
       "    </tr>\n",
       "    <tr>\n",
       "      <th>4</th>\n",
       "      <td>Lay off .</td>\n",
       "      <td>1</td>\n",
       "    </tr>\n",
       "  </tbody>\n",
       "</table>\n",
       "</div>"
      ],
      "text/plain": [
       "                                            sentence emotion\n",
       "0                      I'm too old to be traded in .       6\n",
       "1  Mother said you could always tell a lady by he...       8\n",
       "2   I always said I'd leave off when the time came .       6\n",
       "3                            He'll be safe with me .       2\n",
       "4                                          Lay off .       1"
      ]
     },
     "execution_count": 4,
     "metadata": {},
     "output_type": "execute_result"
    }
   ],
   "source": [
    "df_train.head()"
   ]
  },
  {
   "cell_type": "code",
   "execution_count": 5,
   "id": "FGdd_RPdGKX3",
   "metadata": {
    "colab": {
     "base_uri": "https://localhost:8080/"
    },
    "executionInfo": {
     "elapsed": 1,
     "status": "ok",
     "timestamp": 1653046306349,
     "user": {
      "displayName": "Guilherme Simões",
      "userId": "17910731118261220450"
     },
     "user_tz": -60
    },
    "id": "FGdd_RPdGKX3",
    "outputId": "87a46747-07af-45d7-ce53-045765780171"
   },
   "outputs": [
    {
     "data": {
      "text/plain": [
       "(14000, 2)"
      ]
     },
     "execution_count": 5,
     "metadata": {},
     "output_type": "execute_result"
    }
   ],
   "source": [
    "df_train.shape"
   ]
  },
  {
   "cell_type": "code",
   "execution_count": 6,
   "id": "7e7edb77",
   "metadata": {
    "colab": {
     "base_uri": "https://localhost:8080/",
     "height": 206
    },
    "executionInfo": {
     "elapsed": 3,
     "status": "ok",
     "timestamp": 1653046307474,
     "user": {
      "displayName": "Guilherme Simões",
      "userId": "17910731118261220450"
     },
     "user_tz": -60
    },
    "id": "7e7edb77",
    "outputId": "a1f107a3-6669-4700-cac6-8677d3059775"
   },
   "outputs": [
    {
     "data": {
      "text/html": [
       "<div>\n",
       "<style scoped>\n",
       "    .dataframe tbody tr th:only-of-type {\n",
       "        vertical-align: middle;\n",
       "    }\n",
       "\n",
       "    .dataframe tbody tr th {\n",
       "        vertical-align: top;\n",
       "    }\n",
       "\n",
       "    .dataframe thead th {\n",
       "        text-align: right;\n",
       "    }\n",
       "</style>\n",
       "<table border=\"1\" class=\"dataframe\">\n",
       "  <thead>\n",
       "    <tr style=\"text-align: right;\">\n",
       "      <th></th>\n",
       "      <th>sentence</th>\n",
       "      <th>emotion</th>\n",
       "    </tr>\n",
       "  </thead>\n",
       "  <tbody>\n",
       "    <tr>\n",
       "      <th>0</th>\n",
       "      <td>What happens to the gold in our safe ?</td>\n",
       "      <td>4</td>\n",
       "    </tr>\n",
       "    <tr>\n",
       "      <th>1</th>\n",
       "      <td>Natural to get cold feet .</td>\n",
       "      <td>8</td>\n",
       "    </tr>\n",
       "    <tr>\n",
       "      <th>2</th>\n",
       "      <td>Not very lucky , is he ?</td>\n",
       "      <td>7</td>\n",
       "    </tr>\n",
       "    <tr>\n",
       "      <th>3</th>\n",
       "      <td>I'm just a little anxious to get up there and ...</td>\n",
       "      <td>2</td>\n",
       "    </tr>\n",
       "    <tr>\n",
       "      <th>4</th>\n",
       "      <td>Did you think we don't know about your affair ...</td>\n",
       "      <td>1</td>\n",
       "    </tr>\n",
       "  </tbody>\n",
       "</table>\n",
       "</div>"
      ],
      "text/plain": [
       "                                            sentence emotion\n",
       "0             What happens to the gold in our safe ?       4\n",
       "1                         Natural to get cold feet .       8\n",
       "2                           Not very lucky , is he ?       7\n",
       "3  I'm just a little anxious to get up there and ...       2\n",
       "4  Did you think we don't know about your affair ...       1"
      ]
     },
     "execution_count": 6,
     "metadata": {},
     "output_type": "execute_result"
    }
   ],
   "source": [
    "df_dev.head()"
   ]
  },
  {
   "cell_type": "code",
   "execution_count": 7,
   "id": "311l6XJzGSFW",
   "metadata": {
    "colab": {
     "base_uri": "https://localhost:8080/"
    },
    "executionInfo": {
     "elapsed": 333,
     "status": "ok",
     "timestamp": 1653046308081,
     "user": {
      "displayName": "Guilherme Simões",
      "userId": "17910731118261220450"
     },
     "user_tz": -60
    },
    "id": "311l6XJzGSFW",
    "outputId": "7a293d01-14a0-45c0-d95c-a0ee575584d3"
   },
   "outputs": [
    {
     "data": {
      "text/plain": [
       "(1000, 2)"
      ]
     },
     "execution_count": 7,
     "metadata": {},
     "output_type": "execute_result"
    }
   ],
   "source": [
    "df_dev.shape"
   ]
  },
  {
   "cell_type": "code",
   "execution_count": 8,
   "id": "d55178db",
   "metadata": {},
   "outputs": [
    {
     "data": {
      "text/html": [
       "<div>\n",
       "<style scoped>\n",
       "    .dataframe tbody tr th:only-of-type {\n",
       "        vertical-align: middle;\n",
       "    }\n",
       "\n",
       "    .dataframe tbody tr th {\n",
       "        vertical-align: top;\n",
       "    }\n",
       "\n",
       "    .dataframe thead th {\n",
       "        text-align: right;\n",
       "    }\n",
       "</style>\n",
       "<table border=\"1\" class=\"dataframe\">\n",
       "  <thead>\n",
       "    <tr style=\"text-align: right;\">\n",
       "      <th></th>\n",
       "      <th>sentence</th>\n",
       "    </tr>\n",
       "  </thead>\n",
       "  <tbody>\n",
       "    <tr>\n",
       "      <th>0</th>\n",
       "      <td>Come , let's go get that automobile .</td>\n",
       "    </tr>\n",
       "    <tr>\n",
       "      <th>1</th>\n",
       "      <td>Well , some other time , then ?</td>\n",
       "    </tr>\n",
       "    <tr>\n",
       "      <th>2</th>\n",
       "      <td>He's in trouble . Boy ?</td>\n",
       "    </tr>\n",
       "    <tr>\n",
       "      <th>3</th>\n",
       "      <td>Criminal gang unit to take control .</td>\n",
       "    </tr>\n",
       "    <tr>\n",
       "      <th>4</th>\n",
       "      <td>By Molto . No discussion . Interview .</td>\n",
       "    </tr>\n",
       "  </tbody>\n",
       "</table>\n",
       "</div>"
      ],
      "text/plain": [
       "                                 sentence\n",
       "0   Come , let's go get that automobile .\n",
       "1         Well , some other time , then ?\n",
       "2                 He's in trouble . Boy ?\n",
       "3    Criminal gang unit to take control .\n",
       "4  By Molto . No discussion . Interview ."
      ]
     },
     "execution_count": 8,
     "metadata": {},
     "output_type": "execute_result"
    }
   ],
   "source": [
    "df_test.head()"
   ]
  },
  {
   "cell_type": "code",
   "execution_count": 9,
   "id": "99a52280",
   "metadata": {},
   "outputs": [
    {
     "data": {
      "text/plain": [
       "(2000, 1)"
      ]
     },
     "execution_count": 9,
     "metadata": {},
     "output_type": "execute_result"
    }
   ],
   "source": [
    "df_test.shape"
   ]
  },
  {
   "cell_type": "markdown",
   "id": "X8GbL1zJA8Ho",
   "metadata": {
    "id": "X8GbL1zJA8Ho"
   },
   "source": [
    "## 2. Text Preprocessing"
   ]
  },
  {
   "cell_type": "code",
   "execution_count": 10,
   "id": "iNS3UvY-BpsJ",
   "metadata": {
    "colab": {
     "base_uri": "https://localhost:8080/"
    },
    "executionInfo": {
     "elapsed": 1478,
     "status": "ok",
     "timestamp": 1653046315212,
     "user": {
      "displayName": "Guilherme Simões",
      "userId": "17910731118261220450"
     },
     "user_tz": -60
    },
    "id": "iNS3UvY-BpsJ",
    "outputId": "34a09152-8f48-4afd-b3a4-984509349ace"
   },
   "outputs": [
    {
     "name": "stderr",
     "output_type": "stream",
     "text": [
      "[nltk_data] Downloading package wordnet to /Users/Beatriz/nltk_data...\n",
      "[nltk_data]   Package wordnet is already up-to-date!\n",
      "[nltk_data] Downloading package stopwords to\n",
      "[nltk_data]     /Users/Beatriz/nltk_data...\n",
      "[nltk_data]   Package stopwords is already up-to-date!\n",
      "[nltk_data] Downloading package omw-1.4 to /Users/Beatriz/nltk_data...\n",
      "[nltk_data]   Package omw-1.4 is already up-to-date!\n"
     ]
    },
    {
     "data": {
      "text/plain": [
       "True"
      ]
     },
     "execution_count": 10,
     "metadata": {},
     "output_type": "execute_result"
    }
   ],
   "source": [
    "nltk.download('wordnet')\n",
    "nltk.download('stopwords')\n",
    "nltk.download('omw-1.4')"
   ]
  },
  {
   "cell_type": "markdown",
   "id": "be42503a",
   "metadata": {},
   "source": [
    "We noticed that there are some empty sentences, so we went to see which words present in those sentences cannot be removed with the stopwords list."
   ]
  },
  {
   "cell_type": "code",
   "execution_count": 11,
   "id": "be36dd5d",
   "metadata": {
    "scrolled": true
   },
   "outputs": [
    {
     "data": {
      "text/plain": [
       "['his',\n",
       " 'above',\n",
       " 'before',\n",
       " 'yourselves',\n",
       " 'your',\n",
       " 'why',\n",
       " 'same',\n",
       " \"don't\",\n",
       " 'further',\n",
       " 'y',\n",
       " 'as',\n",
       " \"you're\",\n",
       " 'yourself',\n",
       " 'themselves',\n",
       " 'having',\n",
       " 'both',\n",
       " 'own',\n",
       " 'he',\n",
       " 'under',\n",
       " 'during',\n",
       " 'each',\n",
       " 'ours',\n",
       " 'this',\n",
       " 'ma',\n",
       " 'from',\n",
       " \"weren't\",\n",
       " 'most',\n",
       " \"it's\",\n",
       " 'our',\n",
       " \"hasn't\",\n",
       " \"that'll\",\n",
       " 'until',\n",
       " 'they',\n",
       " 'an',\n",
       " 'and',\n",
       " 'it',\n",
       " 'down',\n",
       " 'through',\n",
       " 'to',\n",
       " 'itself',\n",
       " \"mustn't\",\n",
       " 'them',\n",
       " 'on',\n",
       " \"mightn't\",\n",
       " 'theirs',\n",
       " 'other',\n",
       " \"you've\",\n",
       " 'their',\n",
       " 'once',\n",
       " 'she',\n",
       " \"hadn't\",\n",
       " 'in',\n",
       " 'or',\n",
       " 'below',\n",
       " \"won't\",\n",
       " 'whom',\n",
       " 'few',\n",
       " \"you'll\",\n",
       " \"doesn't\",\n",
       " 'a',\n",
       " 'off',\n",
       " 'such',\n",
       " 'which',\n",
       " 'its',\n",
       " 'ourselves',\n",
       " 'nor',\n",
       " 'her',\n",
       " \"needn't\",\n",
       " \"she's\",\n",
       " \"isn't\",\n",
       " \"shouldn't\",\n",
       " 'herself',\n",
       " 'about',\n",
       " 'myself',\n",
       " 'some',\n",
       " \"wasn't\",\n",
       " 'these',\n",
       " 'by',\n",
       " \"haven't\",\n",
       " 'into',\n",
       " 'hers',\n",
       " 'himself',\n",
       " 'yours',\n",
       " 'my',\n",
       " 'being',\n",
       " 'at',\n",
       " \"you'd\",\n",
       " 'between',\n",
       " 'o',\n",
       " 'then',\n",
       " 'while',\n",
       " 'of',\n",
       " \"wouldn't\",\n",
       " 'those',\n",
       " \"didn't\",\n",
       " \"shan't\",\n",
       " \"should've\",\n",
       " 'so',\n",
       " \"couldn't\",\n",
       " \"aren't\",\n",
       " 'only']"
      ]
     },
     "execution_count": 11,
     "metadata": {},
     "output_type": "execute_result"
    }
   ],
   "source": [
    "snowball_stemmer = SnowballStemmer('english')\n",
    "stop_words = set(stopwords.words('english'))\n",
    "stop_words = list(stop_words)\n",
    "\n",
    "# List of sentences' indexes that have important words that cannot be deleted\n",
    "list_of_words_not_to_remove = ['no', 'here', 'more', 'all', 'up', 'after', 'again', 'just',\n",
    "                               'i', 'now', 'had', 'but', 'did', 'is', 'we', 'the', 'wouldn',\n",
    "                               'been', 'too', 'won', 'for', 'him', 'not', 'over', 'shan', 'than',\n",
    "                               'can', 'out', 'will', 'me', 'any', 'have', 'should', 'do', 'd',\n",
    "                               'be', 'how', 'are', 'what', 'you', 'if', \"was\", \"who\", 'because',\n",
    "                               'where', \"doing\", \"ain\", \"am\", \"re\", 've', 'against', 'very', 'm',\n",
    "                               'with', 'there', 'does', 'has', 'were', 'don', 't', 'mightn', 'hasn',\n",
    "                               'hadn', 'couldn', 'weren', 'wasn', 'didn', 'shouldn', 'isn', 'mustn',\n",
    "                               'haven', 'doesn', 'needn', 'when', 'that', 's', 'll', 'aren']\n",
    "\n",
    "stop = list()\n",
    "for v in stop_words:\n",
    "    if v not in list_of_words_not_to_remove:\n",
    "        stop.append(v)\n",
    "\n",
    "stop_words = stop\n",
    "stop_words"
   ]
  },
  {
   "cell_type": "code",
   "execution_count": 12,
   "id": "8e501626",
   "metadata": {
    "id": "8e501626"
   },
   "outputs": [],
   "source": [
    "def preprocessing(text):\n",
    "    \"\"\"\n",
    "        text: a string\n",
    "\n",
    "        return: modified initial string\n",
    "    \"\"\"\n",
    "    # HTML decoding\n",
    "    text = BeautifulSoup(text).get_text()\n",
    "\n",
    "    # lowercase text\n",
    "    text = text.lower()\n",
    "\n",
    "    # Remove digits and special characters\n",
    "    text = re.sub(\"[^a-zA-Z!?]\", ' ', text)\n",
    "\n",
    "    # Delete stopwors from text\n",
    "    text = ' '.join(word for word in text.split() if word not in stop_words)\n",
    "\n",
    "    # Stemming\n",
    "    text = \" \".join(snowball_stemmer.stem(word) for word in text.split())\n",
    "\n",
    "    return text"
   ]
  },
  {
   "cell_type": "code",
   "execution_count": 13,
   "id": "d84ffa57",
   "metadata": {},
   "outputs": [
    {
     "data": {
      "text/html": [
       "<div>\n",
       "<style scoped>\n",
       "    .dataframe tbody tr th:only-of-type {\n",
       "        vertical-align: middle;\n",
       "    }\n",
       "\n",
       "    .dataframe tbody tr th {\n",
       "        vertical-align: top;\n",
       "    }\n",
       "\n",
       "    .dataframe thead th {\n",
       "        text-align: right;\n",
       "    }\n",
       "</style>\n",
       "<table border=\"1\" class=\"dataframe\">\n",
       "  <thead>\n",
       "    <tr style=\"text-align: right;\">\n",
       "      <th></th>\n",
       "      <th>sentence</th>\n",
       "      <th>emotion</th>\n",
       "    </tr>\n",
       "  </thead>\n",
       "  <tbody>\n",
       "    <tr>\n",
       "      <th>0</th>\n",
       "      <td>i m too old be trade</td>\n",
       "      <td>6</td>\n",
       "    </tr>\n",
       "    <tr>\n",
       "      <th>1</th>\n",
       "      <td>mother said you could alway tell ladi hand</td>\n",
       "      <td>8</td>\n",
       "    </tr>\n",
       "    <tr>\n",
       "      <th>2</th>\n",
       "      <td>i alway said i d leav when the time came</td>\n",
       "      <td>6</td>\n",
       "    </tr>\n",
       "    <tr>\n",
       "      <th>3</th>\n",
       "      <td>ll be safe with me</td>\n",
       "      <td>2</td>\n",
       "    </tr>\n",
       "    <tr>\n",
       "      <th>4</th>\n",
       "      <td>lay</td>\n",
       "      <td>1</td>\n",
       "    </tr>\n",
       "  </tbody>\n",
       "</table>\n",
       "</div>"
      ],
      "text/plain": [
       "                                     sentence emotion\n",
       "0                        i m too old be trade       6\n",
       "1  mother said you could alway tell ladi hand       8\n",
       "2    i alway said i d leav when the time came       6\n",
       "3                          ll be safe with me       2\n",
       "4                                         lay       1"
      ]
     },
     "execution_count": 13,
     "metadata": {},
     "output_type": "execute_result"
    }
   ],
   "source": [
    "df_train['sentence'] = df_train['sentence'].apply(preprocessing)\n",
    "df_train.head()"
   ]
  },
  {
   "cell_type": "code",
   "execution_count": 14,
   "id": "760daa83",
   "metadata": {},
   "outputs": [
    {
     "data": {
      "text/html": [
       "<div>\n",
       "<style scoped>\n",
       "    .dataframe tbody tr th:only-of-type {\n",
       "        vertical-align: middle;\n",
       "    }\n",
       "\n",
       "    .dataframe tbody tr th {\n",
       "        vertical-align: top;\n",
       "    }\n",
       "\n",
       "    .dataframe thead th {\n",
       "        text-align: right;\n",
       "    }\n",
       "</style>\n",
       "<table border=\"1\" class=\"dataframe\">\n",
       "  <thead>\n",
       "    <tr style=\"text-align: right;\">\n",
       "      <th></th>\n",
       "      <th>sentence</th>\n",
       "      <th>emotion</th>\n",
       "    </tr>\n",
       "  </thead>\n",
       "  <tbody>\n",
       "    <tr>\n",
       "      <th>0</th>\n",
       "      <td>what happen the gold safe ?</td>\n",
       "      <td>4</td>\n",
       "    </tr>\n",
       "    <tr>\n",
       "      <th>1</th>\n",
       "      <td>natur get cold feet</td>\n",
       "      <td>8</td>\n",
       "    </tr>\n",
       "    <tr>\n",
       "      <th>2</th>\n",
       "      <td>not veri lucki is ?</td>\n",
       "      <td>7</td>\n",
       "    </tr>\n",
       "    <tr>\n",
       "      <th>3</th>\n",
       "      <td>i m just littl anxious get up there whoop et s...</td>\n",
       "      <td>2</td>\n",
       "    </tr>\n",
       "    <tr>\n",
       "      <th>4</th>\n",
       "      <td>did you think we don t know affair with govern...</td>\n",
       "      <td>1</td>\n",
       "    </tr>\n",
       "  </tbody>\n",
       "</table>\n",
       "</div>"
      ],
      "text/plain": [
       "                                            sentence emotion\n",
       "0                        what happen the gold safe ?       4\n",
       "1                                natur get cold feet       8\n",
       "2                                not veri lucki is ?       7\n",
       "3  i m just littl anxious get up there whoop et s...       2\n",
       "4  did you think we don t know affair with govern...       1"
      ]
     },
     "execution_count": 14,
     "metadata": {},
     "output_type": "execute_result"
    }
   ],
   "source": [
    "dev_sentence = df_dev['sentence']\n",
    "df_dev['sentence'] = df_dev['sentence'].apply(preprocessing)\n",
    "df_dev.head()"
   ]
  },
  {
   "cell_type": "code",
   "execution_count": 15,
   "id": "215e1fd8",
   "metadata": {},
   "outputs": [
    {
     "data": {
      "text/html": [
       "<div>\n",
       "<style scoped>\n",
       "    .dataframe tbody tr th:only-of-type {\n",
       "        vertical-align: middle;\n",
       "    }\n",
       "\n",
       "    .dataframe tbody tr th {\n",
       "        vertical-align: top;\n",
       "    }\n",
       "\n",
       "    .dataframe thead th {\n",
       "        text-align: right;\n",
       "    }\n",
       "</style>\n",
       "<table border=\"1\" class=\"dataframe\">\n",
       "  <thead>\n",
       "    <tr style=\"text-align: right;\">\n",
       "      <th></th>\n",
       "      <th>sentence</th>\n",
       "    </tr>\n",
       "  </thead>\n",
       "  <tbody>\n",
       "    <tr>\n",
       "      <th>0</th>\n",
       "      <td>come let s go get that automobil</td>\n",
       "    </tr>\n",
       "    <tr>\n",
       "      <th>1</th>\n",
       "      <td>well time ?</td>\n",
       "    </tr>\n",
       "    <tr>\n",
       "      <th>2</th>\n",
       "      <td>s troubl boy ?</td>\n",
       "    </tr>\n",
       "    <tr>\n",
       "      <th>3</th>\n",
       "      <td>crimin gang unit take control</td>\n",
       "    </tr>\n",
       "    <tr>\n",
       "      <th>4</th>\n",
       "      <td>molto no discuss interview</td>\n",
       "    </tr>\n",
       "  </tbody>\n",
       "</table>\n",
       "</div>"
      ],
      "text/plain": [
       "                           sentence\n",
       "0  come let s go get that automobil\n",
       "1                       well time ?\n",
       "2                    s troubl boy ?\n",
       "3     crimin gang unit take control\n",
       "4        molto no discuss interview"
      ]
     },
     "execution_count": 15,
     "metadata": {},
     "output_type": "execute_result"
    }
   ],
   "source": [
    "test_sentence = df_test['sentence']\n",
    "df_test['sentence'] = df_test['sentence'].apply(preprocessing)\n",
    "df_test.head()"
   ]
  },
  {
   "cell_type": "markdown",
   "id": "0f0adc2b",
   "metadata": {
    "id": "d299b781"
   },
   "source": [
    "## 3. Feature extraction using Bag-of-words and TF-IDF Transformer"
   ]
  },
  {
   "cell_type": "code",
   "execution_count": 16,
   "id": "94b37b1f",
   "metadata": {},
   "outputs": [
    {
     "data": {
      "text/plain": [
       "((14000, 5294), (14000,), (1000, 5294), (1000,), (2000, 5294))"
      ]
     },
     "execution_count": 16,
     "metadata": {},
     "output_type": "execute_result"
    }
   ],
   "source": [
    "cv = CountVectorizer(max_df=0.8, binary=True, ngram_range=(1,1))\n",
    "\n",
    "x_train = cv.fit_transform(df_train['sentence'])\n",
    "y_train = np.array(df_train[\"emotion\"])\n",
    "\n",
    "tfidf_vectorizer = TfidfTransformer()\n",
    "tfidf_vectorizer.fit(x_train, y_train)\n",
    "\n",
    "x_dev = tfidf_vectorizer.transform(cv.transform(df_dev[\"sentence\"]))\n",
    "y_dev = np.array(df_dev[\"emotion\"])\n",
    "\n",
    "x_test = tfidf_vectorizer.transform(cv.transform(df_test[\"sentence\"]))\n",
    "\n",
    "x_train.shape, y_train.shape, x_dev.shape, y_dev.shape, x_test.shape"
   ]
  },
  {
   "cell_type": "markdown",
   "id": "1b9a217a",
   "metadata": {
    "id": "zeRXAXoFKY_J"
   },
   "source": [
    "### 3.1. Training the model using KNN"
   ]
  },
  {
   "cell_type": "code",
   "execution_count": 17,
   "id": "d1a38fde",
   "metadata": {},
   "outputs": [
    {
     "data": {
      "text/html": [
       "<style>#sk-container-id-1 {color: black;background-color: white;}#sk-container-id-1 pre{padding: 0;}#sk-container-id-1 div.sk-toggleable {background-color: white;}#sk-container-id-1 label.sk-toggleable__label {cursor: pointer;display: block;width: 100%;margin-bottom: 0;padding: 0.3em;box-sizing: border-box;text-align: center;}#sk-container-id-1 label.sk-toggleable__label-arrow:before {content: \"▸\";float: left;margin-right: 0.25em;color: #696969;}#sk-container-id-1 label.sk-toggleable__label-arrow:hover:before {color: black;}#sk-container-id-1 div.sk-estimator:hover label.sk-toggleable__label-arrow:before {color: black;}#sk-container-id-1 div.sk-toggleable__content {max-height: 0;max-width: 0;overflow: hidden;text-align: left;background-color: #f0f8ff;}#sk-container-id-1 div.sk-toggleable__content pre {margin: 0.2em;color: black;border-radius: 0.25em;background-color: #f0f8ff;}#sk-container-id-1 input.sk-toggleable__control:checked~div.sk-toggleable__content {max-height: 200px;max-width: 100%;overflow: auto;}#sk-container-id-1 input.sk-toggleable__control:checked~label.sk-toggleable__label-arrow:before {content: \"▾\";}#sk-container-id-1 div.sk-estimator input.sk-toggleable__control:checked~label.sk-toggleable__label {background-color: #d4ebff;}#sk-container-id-1 div.sk-label input.sk-toggleable__control:checked~label.sk-toggleable__label {background-color: #d4ebff;}#sk-container-id-1 input.sk-hidden--visually {border: 0;clip: rect(1px 1px 1px 1px);clip: rect(1px, 1px, 1px, 1px);height: 1px;margin: -1px;overflow: hidden;padding: 0;position: absolute;width: 1px;}#sk-container-id-1 div.sk-estimator {font-family: monospace;background-color: #f0f8ff;border: 1px dotted black;border-radius: 0.25em;box-sizing: border-box;margin-bottom: 0.5em;}#sk-container-id-1 div.sk-estimator:hover {background-color: #d4ebff;}#sk-container-id-1 div.sk-parallel-item::after {content: \"\";width: 100%;border-bottom: 1px solid gray;flex-grow: 1;}#sk-container-id-1 div.sk-label:hover label.sk-toggleable__label {background-color: #d4ebff;}#sk-container-id-1 div.sk-serial::before {content: \"\";position: absolute;border-left: 1px solid gray;box-sizing: border-box;top: 0;bottom: 0;left: 50%;z-index: 0;}#sk-container-id-1 div.sk-serial {display: flex;flex-direction: column;align-items: center;background-color: white;padding-right: 0.2em;padding-left: 0.2em;position: relative;}#sk-container-id-1 div.sk-item {position: relative;z-index: 1;}#sk-container-id-1 div.sk-parallel {display: flex;align-items: stretch;justify-content: center;background-color: white;position: relative;}#sk-container-id-1 div.sk-item::before, #sk-container-id-1 div.sk-parallel-item::before {content: \"\";position: absolute;border-left: 1px solid gray;box-sizing: border-box;top: 0;bottom: 0;left: 50%;z-index: -1;}#sk-container-id-1 div.sk-parallel-item {display: flex;flex-direction: column;z-index: 1;position: relative;background-color: white;}#sk-container-id-1 div.sk-parallel-item:first-child::after {align-self: flex-end;width: 50%;}#sk-container-id-1 div.sk-parallel-item:last-child::after {align-self: flex-start;width: 50%;}#sk-container-id-1 div.sk-parallel-item:only-child::after {width: 0;}#sk-container-id-1 div.sk-dashed-wrapped {border: 1px dashed gray;margin: 0 0.4em 0.5em 0.4em;box-sizing: border-box;padding-bottom: 0.4em;background-color: white;}#sk-container-id-1 div.sk-label label {font-family: monospace;font-weight: bold;display: inline-block;line-height: 1.2em;}#sk-container-id-1 div.sk-label-container {text-align: center;}#sk-container-id-1 div.sk-container {/* jupyter's `normalize.less` sets `[hidden] { display: none; }` but bootstrap.min.css set `[hidden] { display: none !important; }` so we also need the `!important` here to be able to override the default hidden behavior on the sphinx rendered scikit-learn.org. See: https://github.com/scikit-learn/scikit-learn/issues/21755 */display: inline-block !important;position: relative;}#sk-container-id-1 div.sk-text-repr-fallback {display: none;}</style><div id=\"sk-container-id-1\" class=\"sk-top-container\"><div class=\"sk-text-repr-fallback\"><pre>KNeighborsClassifier(algorithm=&#x27;brute&#x27;, metric=&#x27;cosine&#x27;, n_jobs=1,\n",
       "                     n_neighbors=7, weights=&#x27;distance&#x27;)</pre><b>In a Jupyter environment, please rerun this cell to show the HTML representation or trust the notebook. <br />On GitHub, the HTML representation is unable to render, please try loading this page with nbviewer.org.</b></div><div class=\"sk-container\" hidden><div class=\"sk-item\"><div class=\"sk-estimator sk-toggleable\"><input class=\"sk-toggleable__control sk-hidden--visually\" id=\"sk-estimator-id-1\" type=\"checkbox\" checked><label for=\"sk-estimator-id-1\" class=\"sk-toggleable__label sk-toggleable__label-arrow\">KNeighborsClassifier</label><div class=\"sk-toggleable__content\"><pre>KNeighborsClassifier(algorithm=&#x27;brute&#x27;, metric=&#x27;cosine&#x27;, n_jobs=1,\n",
       "                     n_neighbors=7, weights=&#x27;distance&#x27;)</pre></div></div></div></div></div>"
      ],
      "text/plain": [
       "KNeighborsClassifier(algorithm='brute', metric='cosine', n_jobs=1,\n",
       "                     n_neighbors=7, weights='distance')"
      ]
     },
     "execution_count": 17,
     "metadata": {},
     "output_type": "execute_result"
    }
   ],
   "source": [
    "# Clustering the reviews with a KNN classifier\n",
    "# n_neighbors=7 has the best accuracy\n",
    "modelknn = KNeighborsClassifier(n_neighbors=7, weights='distance', algorithm='brute', leaf_size=30, p=2,\n",
    "                                         metric='cosine', metric_params=None, n_jobs=1)\n",
    "# fit model on the training dataset\n",
    "modelknn.fit(x_train, y_train)"
   ]
  },
  {
   "cell_type": "markdown",
   "id": "755ffe07",
   "metadata": {},
   "source": [
    "#### 3.1.1. Testing the model"
   ]
  },
  {
   "cell_type": "code",
   "execution_count": 18,
   "id": "d4bfc9d2",
   "metadata": {},
   "outputs": [],
   "source": [
    "predict_dev = modelknn.predict(x_dev)"
   ]
  },
  {
   "cell_type": "markdown",
   "id": "4d9fda15",
   "metadata": {},
   "source": [
    "#### 3.1.2. Evaluation"
   ]
  },
  {
   "cell_type": "code",
   "execution_count": 19,
   "id": "c382f0ba",
   "metadata": {},
   "outputs": [
    {
     "name": "stdout",
     "output_type": "stream",
     "text": [
      "              precision    recall  f1-score   support\n",
      "\n",
      "       Anger       0.46      0.34      0.39       291\n",
      "Anticipation       0.36      0.39      0.37       157\n",
      "     Disgust       0.10      0.22      0.14        36\n",
      "        Fear       0.27      0.29      0.28        97\n",
      "         Joy       0.44      0.37      0.40       116\n",
      "     Sadness       0.21      0.24      0.22        75\n",
      "    Surprise       0.22      0.30      0.25        69\n",
      "       Trust       0.38      0.38      0.38       159\n",
      "\n",
      "    accuracy                           0.34      1000\n",
      "   macro avg       0.31      0.32      0.31      1000\n",
      "weighted avg       0.36      0.34      0.35      1000\n",
      "\n"
     ]
    }
   ],
   "source": [
    "emotions = {1: 'Anger', 2: 'Anticipation', 3: 'Disgust', 4: 'Fear', 5: 'Joy', 6: 'Sadness', 7: 'Surprise', 8: 'Trust'}\n",
    "print('Classification Report', classification_report(predict_dev, y_dev, target_names=emotions.values()))"
   ]
  },
  {
   "cell_type": "code",
   "execution_count": 20,
   "id": "27b67db6",
   "metadata": {
    "scrolled": true
   },
   "outputs": [
    {
     "data": {
      "text/plain": [
       "array([[98, 39, 28, 21, 16, 29, 28, 32],\n",
       "       [23, 61, 13, 16, 11,  8,  9, 16],\n",
       "       [11,  3,  8,  5,  1,  4,  3,  1],\n",
       "       [19, 10,  6, 28,  5, 11,  6, 12],\n",
       "       [10, 16,  4,  2, 43,  7, 12, 22],\n",
       "       [18,  3,  7,  8,  4, 18,  9,  8],\n",
       "       [15,  8,  4,  7,  4,  3, 21,  7],\n",
       "       [17, 30,  7, 17, 13,  7,  8, 60]])"
      ]
     },
     "execution_count": 20,
     "metadata": {},
     "output_type": "execute_result"
    }
   ],
   "source": [
    "confusion_matrix(predict_dev, y_dev)"
   ]
  },
  {
   "cell_type": "code",
   "execution_count": 21,
   "id": "3161c3bc",
   "metadata": {},
   "outputs": [],
   "source": [
    "def plot_cm(confusion_matrix : np.array, classnames : list):\n",
    "    \"\"\"\n",
    "    Function that creates a confusion matrix plot using the Wikipedia convention for the axis. \n",
    "    :param confusion_matrix: confusion matrix that will be plotted\n",
    "    :param classnames: labels of the classes\n",
    "    \n",
    "    Returns:\n",
    "        - Plot of the Confusion Matrix\n",
    "    \"\"\"\n",
    "    confusionmatrix = confusion_matrix\n",
    "    class_names = classnames             \n",
    "\n",
    "    fig, ax = plt.subplots()\n",
    "    im = plt.imshow(confusionmatrix, cmap=plt.cm.RdYlBu)\n",
    "    plt.colorbar()\n",
    "\n",
    "    # We want to show all ticks...\n",
    "    ax.set_xticks(np.arange(len(class_names)))\n",
    "    ax.set_yticks(np.arange(len(class_names)))\n",
    "    # ... and label them with the respective list entries\n",
    "    ax.set_xticklabels(class_names)\n",
    "    ax.set_yticklabels(class_names)\n",
    "\n",
    "    # Rotate the tick labels and set their alignment.\n",
    "    plt.setp(ax.get_xticklabels(), rotation=45, ha=\"right\", rotation_mode=\"anchor\")\n",
    "\n",
    "    # Loop over data dimensions and create text annotations.\n",
    "    for i in range(len(class_names)):\n",
    "        for j in range(len(class_names)):\n",
    "            text = ax.text(j, i, confusionmatrix[i, j], ha=\"center\", va=\"center\", color=\"w\")\n",
    "\n",
    "    ax.set_title(\"Confusion Matrix\")\n",
    "    plt.xlabel('Targets')\n",
    "    plt.ylabel('Predictions')\n",
    "    \n",
    "    return plt.show()"
   ]
  },
  {
   "cell_type": "code",
   "execution_count": 22,
   "id": "ec7c2d0d",
   "metadata": {},
   "outputs": [
    {
     "data": {
      "image/png": "[encoded data removed]",
      "text/plain": [
       "<Figure size 432x288 with 2 Axes>"
      ]
     },
     "metadata": {
      "needs_background": "light"
     },
     "output_type": "display_data"
    }
   ],
   "source": [
    "plot_cm(confusion_matrix(predict_dev, y_dev), emotions.values())"
   ]
  },
  {
   "cell_type": "markdown",
   "id": "bcefd098",
   "metadata": {},
   "source": [
    "#### 3.1.3. Checking overfitting"
   ]
  },
  {
   "cell_type": "code",
   "execution_count": 23,
   "id": "7c9e36a8",
   "metadata": {},
   "outputs": [],
   "source": [
    "def checking_overfitting(model):\n",
    "    predict_train = model.predict(x_train)\n",
    "    train_acc = accuracy_score(y_train, predict_train)\n",
    "    \n",
    "    predict_dev = model.predict(x_dev)\n",
    "    dev_acc = accuracy_score(y_dev, predict_dev)\n",
    "\n",
    "    return train_acc, dev_acc"
   ]
  },
  {
   "cell_type": "code",
   "execution_count": 24,
   "id": "f42ccd06",
   "metadata": {},
   "outputs": [
    {
     "data": {
      "text/plain": [
       "(0.9852142857142857, 0.337)"
      ]
     },
     "execution_count": 24,
     "metadata": {},
     "output_type": "execute_result"
    }
   ],
   "source": [
    "checking_overfitting(modelknn)"
   ]
  },
  {
   "cell_type": "markdown",
   "id": "7880bd08",
   "metadata": {
    "id": "zeRXAXoFKY_J"
   },
   "source": [
    "### 3.2. Training the model using Random Forest"
   ]
  },
  {
   "cell_type": "code",
   "execution_count": 25,
   "id": "d2ed7a1a",
   "metadata": {
    "scrolled": true
   },
   "outputs": [
    {
     "data": {
      "text/html": [
       "<style>#sk-container-id-2 {color: black;background-color: white;}#sk-container-id-2 pre{padding: 0;}#sk-container-id-2 div.sk-toggleable {background-color: white;}#sk-container-id-2 label.sk-toggleable__label {cursor: pointer;display: block;width: 100%;margin-bottom: 0;padding: 0.3em;box-sizing: border-box;text-align: center;}#sk-container-id-2 label.sk-toggleable__label-arrow:before {content: \"▸\";float: left;margin-right: 0.25em;color: #696969;}#sk-container-id-2 label.sk-toggleable__label-arrow:hover:before {color: black;}#sk-container-id-2 div.sk-estimator:hover label.sk-toggleable__label-arrow:before {color: black;}#sk-container-id-2 div.sk-toggleable__content {max-height: 0;max-width: 0;overflow: hidden;text-align: left;background-color: #f0f8ff;}#sk-container-id-2 div.sk-toggleable__content pre {margin: 0.2em;color: black;border-radius: 0.25em;background-color: #f0f8ff;}#sk-container-id-2 input.sk-toggleable__control:checked~div.sk-toggleable__content {max-height: 200px;max-width: 100%;overflow: auto;}#sk-container-id-2 input.sk-toggleable__control:checked~label.sk-toggleable__label-arrow:before {content: \"▾\";}#sk-container-id-2 div.sk-estimator input.sk-toggleable__control:checked~label.sk-toggleable__label {background-color: #d4ebff;}#sk-container-id-2 div.sk-label input.sk-toggleable__control:checked~label.sk-toggleable__label {background-color: #d4ebff;}#sk-container-id-2 input.sk-hidden--visually {border: 0;clip: rect(1px 1px 1px 1px);clip: rect(1px, 1px, 1px, 1px);height: 1px;margin: -1px;overflow: hidden;padding: 0;position: absolute;width: 1px;}#sk-container-id-2 div.sk-estimator {font-family: monospace;background-color: #f0f8ff;border: 1px dotted black;border-radius: 0.25em;box-sizing: border-box;margin-bottom: 0.5em;}#sk-container-id-2 div.sk-estimator:hover {background-color: #d4ebff;}#sk-container-id-2 div.sk-parallel-item::after {content: \"\";width: 100%;border-bottom: 1px solid gray;flex-grow: 1;}#sk-container-id-2 div.sk-label:hover label.sk-toggleable__label {background-color: #d4ebff;}#sk-container-id-2 div.sk-serial::before {content: \"\";position: absolute;border-left: 1px solid gray;box-sizing: border-box;top: 0;bottom: 0;left: 50%;z-index: 0;}#sk-container-id-2 div.sk-serial {display: flex;flex-direction: column;align-items: center;background-color: white;padding-right: 0.2em;padding-left: 0.2em;position: relative;}#sk-container-id-2 div.sk-item {position: relative;z-index: 1;}#sk-container-id-2 div.sk-parallel {display: flex;align-items: stretch;justify-content: center;background-color: white;position: relative;}#sk-container-id-2 div.sk-item::before, #sk-container-id-2 div.sk-parallel-item::before {content: \"\";position: absolute;border-left: 1px solid gray;box-sizing: border-box;top: 0;bottom: 0;left: 50%;z-index: -1;}#sk-container-id-2 div.sk-parallel-item {display: flex;flex-direction: column;z-index: 1;position: relative;background-color: white;}#sk-container-id-2 div.sk-parallel-item:first-child::after {align-self: flex-end;width: 50%;}#sk-container-id-2 div.sk-parallel-item:last-child::after {align-self: flex-start;width: 50%;}#sk-container-id-2 div.sk-parallel-item:only-child::after {width: 0;}#sk-container-id-2 div.sk-dashed-wrapped {border: 1px dashed gray;margin: 0 0.4em 0.5em 0.4em;box-sizing: border-box;padding-bottom: 0.4em;background-color: white;}#sk-container-id-2 div.sk-label label {font-family: monospace;font-weight: bold;display: inline-block;line-height: 1.2em;}#sk-container-id-2 div.sk-label-container {text-align: center;}#sk-container-id-2 div.sk-container {/* jupyter's `normalize.less` sets `[hidden] { display: none; }` but bootstrap.min.css set `[hidden] { display: none !important; }` so we also need the `!important` here to be able to override the default hidden behavior on the sphinx rendered scikit-learn.org. See: https://github.com/scikit-learn/scikit-learn/issues/21755 */display: inline-block !important;position: relative;}#sk-container-id-2 div.sk-text-repr-fallback {display: none;}</style><div id=\"sk-container-id-2\" class=\"sk-top-container\"><div class=\"sk-text-repr-fallback\"><pre>RandomForestClassifier(n_jobs=1, oob_score=True, random_state=1)</pre><b>In a Jupyter environment, please rerun this cell to show the HTML representation or trust the notebook. <br />On GitHub, the HTML representation is unable to render, please try loading this page with nbviewer.org.</b></div><div class=\"sk-container\" hidden><div class=\"sk-item\"><div class=\"sk-estimator sk-toggleable\"><input class=\"sk-toggleable__control sk-hidden--visually\" id=\"sk-estimator-id-2\" type=\"checkbox\" checked><label for=\"sk-estimator-id-2\" class=\"sk-toggleable__label sk-toggleable__label-arrow\">RandomForestClassifier</label><div class=\"sk-toggleable__content\"><pre>RandomForestClassifier(n_jobs=1, oob_score=True, random_state=1)</pre></div></div></div></div></div>"
      ],
      "text/plain": [
       "RandomForestClassifier(n_jobs=1, oob_score=True, random_state=1)"
      ]
     },
     "execution_count": 25,
     "metadata": {},
     "output_type": "execute_result"
    }
   ],
   "source": [
    "# Clustering the reviews with a Random Forest classifier\n",
    "modelrf = RandomForestClassifier(n_estimators=100, oob_score=True, n_jobs=1, random_state=1)\n",
    "# Fit model on the training dataset\n",
    "modelrf.fit(x_train, y_train)"
   ]
  },
  {
   "cell_type": "markdown",
   "id": "64aa2d6f",
   "metadata": {},
   "source": [
    "#### 3.2.1. Testing the model"
   ]
  },
  {
   "cell_type": "code",
   "execution_count": 26,
   "id": "949086cf",
   "metadata": {},
   "outputs": [],
   "source": [
    "predict_dev = modelrf.predict(x_dev)"
   ]
  },
  {
   "cell_type": "markdown",
   "id": "b1313931",
   "metadata": {},
   "source": [
    "#### 3.2.2. Evaluation"
   ]
  },
  {
   "cell_type": "code",
   "execution_count": 27,
   "id": "659b597a",
   "metadata": {},
   "outputs": [
    {
     "name": "stdout",
     "output_type": "stream",
     "text": [
      "              precision    recall  f1-score   support\n",
      "\n",
      "       Anger       0.70      0.25      0.37       590\n",
      "Anticipation       0.15      0.35      0.21        72\n",
      "     Disgust       0.04      0.20      0.07        15\n",
      "        Fear       0.16      0.24      0.19        71\n",
      "         Joy       0.28      0.33      0.30        81\n",
      "     Sadness       0.16      0.23      0.19        62\n",
      "    Surprise       0.12      0.31      0.18        39\n",
      "       Trust       0.18      0.40      0.25        70\n",
      "\n",
      "    accuracy                           0.27      1000\n",
      "   macro avg       0.22      0.29      0.22      1000\n",
      "weighted avg       0.48      0.27      0.31      1000\n",
      "\n"
     ]
    }
   ],
   "source": [
    "print(classification_report(predict_dev, y_dev, target_names=emotions.values()))"
   ]
  },
  {
   "cell_type": "code",
   "execution_count": 28,
   "id": "31aac49f",
   "metadata": {},
   "outputs": [
    {
     "data": {
      "text/plain": [
       "array([[147, 102,  56,  57,  45,  53,  54,  76],\n",
       "       [ 18,  25,   7,   3,   4,   1,   7,   7],\n",
       "       [  3,   4,   3,   1,   2,   0,   1,   1],\n",
       "       [  9,   9,   4,  17,   1,   9,   6,  16],\n",
       "       [  6,   9,   3,   3,  27,   5,   9,  19],\n",
       "       [ 15,   6,   3,  12,   3,  14,   4,   5],\n",
       "       [  7,   2,   1,   4,   4,   3,  12,   6],\n",
       "       [  6,  13,   0,   7,  11,   2,   3,  28]])"
      ]
     },
     "execution_count": 28,
     "metadata": {},
     "output_type": "execute_result"
    }
   ],
   "source": [
    "confusion_matrix(predict_dev, y_dev)"
   ]
  },
  {
   "cell_type": "code",
   "execution_count": 29,
   "id": "20851457",
   "metadata": {},
   "outputs": [
    {
     "data": {
      "image/png": "[encoded data removed]",
      "text/plain": [
       "<Figure size 432x288 with 2 Axes>"
      ]
     },
     "metadata": {
      "needs_background": "light"
     },
     "output_type": "display_data"
    }
   ],
   "source": [
    "plot_cm(confusion_matrix(predict_dev, y_dev), emotions.values())"
   ]
  },
  {
   "cell_type": "markdown",
   "id": "5b0a0877",
   "metadata": {},
   "source": [
    "#### 3.2.3. Checking overfitting"
   ]
  },
  {
   "cell_type": "code",
   "execution_count": 30,
   "id": "c0d418e4",
   "metadata": {},
   "outputs": [
    {
     "data": {
      "text/plain": [
       "(0.9852142857142857, 0.273)"
      ]
     },
     "execution_count": 30,
     "metadata": {},
     "output_type": "execute_result"
    }
   ],
   "source": [
    "checking_overfitting(modelrf)"
   ]
  },
  {
   "cell_type": "markdown",
   "id": "7a0dbc3c",
   "metadata": {},
   "source": [
    "### 3.3. Training the model using XGBoost (Best model)"
   ]
  },
  {
   "cell_type": "code",
   "execution_count": 31,
   "id": "8dc3e2ad",
   "metadata": {},
   "outputs": [],
   "source": [
    "# The class column has to start from 0 (as required since version 1.3.2). Therefore, we used LabelEncoder.\n",
    "le = LabelEncoder()\n",
    "y_train = le.fit_transform(y_train)"
   ]
  },
  {
   "cell_type": "code",
   "execution_count": 32,
   "id": "56b7bca4",
   "metadata": {
    "scrolled": true
   },
   "outputs": [
    {
     "data": {
      "text/html": [
       "<style>#sk-container-id-3 {color: black;background-color: white;}#sk-container-id-3 pre{padding: 0;}#sk-container-id-3 div.sk-toggleable {background-color: white;}#sk-container-id-3 label.sk-toggleable__label {cursor: pointer;display: block;width: 100%;margin-bottom: 0;padding: 0.3em;box-sizing: border-box;text-align: center;}#sk-container-id-3 label.sk-toggleable__label-arrow:before {content: \"▸\";float: left;margin-right: 0.25em;color: #696969;}#sk-container-id-3 label.sk-toggleable__label-arrow:hover:before {color: black;}#sk-container-id-3 div.sk-estimator:hover label.sk-toggleable__label-arrow:before {color: black;}#sk-container-id-3 div.sk-toggleable__content {max-height: 0;max-width: 0;overflow: hidden;text-align: left;background-color: #f0f8ff;}#sk-container-id-3 div.sk-toggleable__content pre {margin: 0.2em;color: black;border-radius: 0.25em;background-color: #f0f8ff;}#sk-container-id-3 input.sk-toggleable__control:checked~div.sk-toggleable__content {max-height: 200px;max-width: 100%;overflow: auto;}#sk-container-id-3 input.sk-toggleable__control:checked~label.sk-toggleable__label-arrow:before {content: \"▾\";}#sk-container-id-3 div.sk-estimator input.sk-toggleable__control:checked~label.sk-toggleable__label {background-color: #d4ebff;}#sk-container-id-3 div.sk-label input.sk-toggleable__control:checked~label.sk-toggleable__label {background-color: #d4ebff;}#sk-container-id-3 input.sk-hidden--visually {border: 0;clip: rect(1px 1px 1px 1px);clip: rect(1px, 1px, 1px, 1px);height: 1px;margin: -1px;overflow: hidden;padding: 0;position: absolute;width: 1px;}#sk-container-id-3 div.sk-estimator {font-family: monospace;background-color: #f0f8ff;border: 1px dotted black;border-radius: 0.25em;box-sizing: border-box;margin-bottom: 0.5em;}#sk-container-id-3 div.sk-estimator:hover {background-color: #d4ebff;}#sk-container-id-3 div.sk-parallel-item::after {content: \"\";width: 100%;border-bottom: 1px solid gray;flex-grow: 1;}#sk-container-id-3 div.sk-label:hover label.sk-toggleable__label {background-color: #d4ebff;}#sk-container-id-3 div.sk-serial::before {content: \"\";position: absolute;border-left: 1px solid gray;box-sizing: border-box;top: 0;bottom: 0;left: 50%;z-index: 0;}#sk-container-id-3 div.sk-serial {display: flex;flex-direction: column;align-items: center;background-color: white;padding-right: 0.2em;padding-left: 0.2em;position: relative;}#sk-container-id-3 div.sk-item {position: relative;z-index: 1;}#sk-container-id-3 div.sk-parallel {display: flex;align-items: stretch;justify-content: center;background-color: white;position: relative;}#sk-container-id-3 div.sk-item::before, #sk-container-id-3 div.sk-parallel-item::before {content: \"\";position: absolute;border-left: 1px solid gray;box-sizing: border-box;top: 0;bottom: 0;left: 50%;z-index: -1;}#sk-container-id-3 div.sk-parallel-item {display: flex;flex-direction: column;z-index: 1;position: relative;background-color: white;}#sk-container-id-3 div.sk-parallel-item:first-child::after {align-self: flex-end;width: 50%;}#sk-container-id-3 div.sk-parallel-item:last-child::after {align-self: flex-start;width: 50%;}#sk-container-id-3 div.sk-parallel-item:only-child::after {width: 0;}#sk-container-id-3 div.sk-dashed-wrapped {border: 1px dashed gray;margin: 0 0.4em 0.5em 0.4em;box-sizing: border-box;padding-bottom: 0.4em;background-color: white;}#sk-container-id-3 div.sk-label label {font-family: monospace;font-weight: bold;display: inline-block;line-height: 1.2em;}#sk-container-id-3 div.sk-label-container {text-align: center;}#sk-container-id-3 div.sk-container {/* jupyter's `normalize.less` sets `[hidden] { display: none; }` but bootstrap.min.css set `[hidden] { display: none !important; }` so we also need the `!important` here to be able to override the default hidden behavior on the sphinx rendered scikit-learn.org. See: https://github.com/scikit-learn/scikit-learn/issues/21755 */display: inline-block !important;position: relative;}#sk-container-id-3 div.sk-text-repr-fallback {display: none;}</style><div id=\"sk-container-id-3\" class=\"sk-top-container\"><div class=\"sk-text-repr-fallback\"><pre>XGBClassifier(base_score=0.5, booster=&#x27;gbtree&#x27;, callbacks=None,\n",
       "              colsample_bylevel=1, colsample_bynode=1, colsample_bytree=1,\n",
       "              early_stopping_rounds=None, enable_categorical=False,\n",
       "              eval_metric=&#x27;mlogloss&#x27;, gamma=0, gpu_id=-1,\n",
       "              grow_policy=&#x27;depthwise&#x27;, importance_type=None,\n",
       "              interaction_constraints=&#x27;&#x27;, learning_rate=0.300000012,\n",
       "              max_bin=256, max_cat_to_onehot=4, max_delta_step=0, max_depth=6,\n",
       "              max_leaves=0, min_child_weight=1, missing=nan,\n",
       "              monotone_constraints=&#x27;()&#x27;, n_estimators=100, n_jobs=0,\n",
       "              num_parallel_tree=1, objective=&#x27;multi:softprob&#x27;, predictor=&#x27;auto&#x27;,\n",
       "              random_state=0, reg_alpha=0, ...)</pre><b>In a Jupyter environment, please rerun this cell to show the HTML representation or trust the notebook. <br />On GitHub, the HTML representation is unable to render, please try loading this page with nbviewer.org.</b></div><div class=\"sk-container\" hidden><div class=\"sk-item\"><div class=\"sk-estimator sk-toggleable\"><input class=\"sk-toggleable__control sk-hidden--visually\" id=\"sk-estimator-id-3\" type=\"checkbox\" checked><label for=\"sk-estimator-id-3\" class=\"sk-toggleable__label sk-toggleable__label-arrow\">XGBClassifier</label><div class=\"sk-toggleable__content\"><pre>XGBClassifier(base_score=0.5, booster=&#x27;gbtree&#x27;, callbacks=None,\n",
       "              colsample_bylevel=1, colsample_bynode=1, colsample_bytree=1,\n",
       "              early_stopping_rounds=None, enable_categorical=False,\n",
       "              eval_metric=&#x27;mlogloss&#x27;, gamma=0, gpu_id=-1,\n",
       "              grow_policy=&#x27;depthwise&#x27;, importance_type=None,\n",
       "              interaction_constraints=&#x27;&#x27;, learning_rate=0.300000012,\n",
       "              max_bin=256, max_cat_to_onehot=4, max_delta_step=0, max_depth=6,\n",
       "              max_leaves=0, min_child_weight=1, missing=nan,\n",
       "              monotone_constraints=&#x27;()&#x27;, n_estimators=100, n_jobs=0,\n",
       "              num_parallel_tree=1, objective=&#x27;multi:softprob&#x27;, predictor=&#x27;auto&#x27;,\n",
       "              random_state=0, reg_alpha=0, ...)</pre></div></div></div></div></div>"
      ],
      "text/plain": [
       "XGBClassifier(base_score=0.5, booster='gbtree', callbacks=None,\n",
       "              colsample_bylevel=1, colsample_bynode=1, colsample_bytree=1,\n",
       "              early_stopping_rounds=None, enable_categorical=False,\n",
       "              eval_metric='mlogloss', gamma=0, gpu_id=-1,\n",
       "              grow_policy='depthwise', importance_type=None,\n",
       "              interaction_constraints='', learning_rate=0.300000012,\n",
       "              max_bin=256, max_cat_to_onehot=4, max_delta_step=0, max_depth=6,\n",
       "              max_leaves=0, min_child_weight=1, missing=nan,\n",
       "              monotone_constraints='()', n_estimators=100, n_jobs=0,\n",
       "              num_parallel_tree=1, objective='multi:softprob', predictor='auto',\n",
       "              random_state=0, reg_alpha=0, ...)"
      ]
     },
     "execution_count": 32,
     "metadata": {},
     "output_type": "execute_result"
    }
   ],
   "source": [
    "# Clustering the reviews with a XGBoost classifier\n",
    "modelxgb = xgb.XGBClassifier(use_label_encoder=False, eval_metric='mlogloss')\n",
    "# fit model on the training dataset\n",
    "modelxgb.fit(x_train, y_train)"
   ]
  },
  {
   "cell_type": "markdown",
   "id": "3317e8a8",
   "metadata": {},
   "source": [
    "#### 3.3.1. Testing the model"
   ]
  },
  {
   "cell_type": "code",
   "execution_count": 33,
   "id": "8d32ac3b",
   "metadata": {},
   "outputs": [],
   "source": [
    "predict_dev = modelxgb.predict(x_dev)\n",
    "predict_test = modelxgb.predict(x_test)"
   ]
  },
  {
   "cell_type": "code",
   "execution_count": 34,
   "id": "8705f260",
   "metadata": {},
   "outputs": [],
   "source": [
    "y_dev = le.fit_transform(y_dev)"
   ]
  },
  {
   "cell_type": "markdown",
   "id": "04cf4b96",
   "metadata": {},
   "source": [
    "#### 3.3.2. Evaluation"
   ]
  },
  {
   "cell_type": "code",
   "execution_count": 35,
   "id": "64d59991",
   "metadata": {},
   "outputs": [
    {
     "name": "stdout",
     "output_type": "stream",
     "text": [
      "              precision    recall  f1-score   support\n",
      "\n",
      "       Anger       0.33      0.66      0.44       211\n",
      "Anticipation       0.41      0.42      0.42       170\n",
      "     Disgust       0.24      0.12      0.16        77\n",
      "        Fear       0.43      0.22      0.29       104\n",
      "         Joy       0.47      0.40      0.43        97\n",
      "     Sadness       0.36      0.24      0.29        87\n",
      "    Surprise       0.35      0.18      0.23        96\n",
      "       Trust       0.43      0.35      0.38       158\n",
      "\n",
      "    accuracy                           0.38      1000\n",
      "   macro avg       0.38      0.32      0.33      1000\n",
      "weighted avg       0.38      0.38      0.36      1000\n",
      "\n"
     ]
    }
   ],
   "source": [
    "print(classification_report(y_dev, predict_dev, target_names=emotions.values()))"
   ]
  },
  {
   "cell_type": "code",
   "execution_count": 36,
   "id": "53af39c3",
   "metadata": {},
   "outputs": [
    {
     "data": {
      "text/plain": [
       "array([[139,  46,  39,  42,  19,  34,  52,  45],\n",
       "       [ 24,  72,   8,  11,  15,  10,  10,  25],\n",
       "       [ 13,   5,   9,   1,   3,   1,   1,   4],\n",
       "       [  7,   9,   3,  23,   2,   6,   2,   2],\n",
       "       [  0,   8,   1,   5,  39,  10,   2,  18],\n",
       "       [  9,   1,   6,   5,   5,  21,   8,   3],\n",
       "       [  7,   5,   3,   4,   4,   3,  17,   6],\n",
       "       [ 12,  24,   8,  13,  10,   2,   4,  55]])"
      ]
     },
     "execution_count": 36,
     "metadata": {},
     "output_type": "execute_result"
    }
   ],
   "source": [
    "confusion_matrix(predict_dev, y_dev)"
   ]
  },
  {
   "cell_type": "code",
   "execution_count": 37,
   "id": "3ba92b92",
   "metadata": {},
   "outputs": [
    {
     "data": {
      "image/png": "[encoded data removed]",
      "text/plain": [
       "<Figure size 432x288 with 2 Axes>"
      ]
     },
     "metadata": {
      "needs_background": "light"
     },
     "output_type": "display_data"
    }
   ],
   "source": [
    "plot_cm(confusion_matrix(predict_dev, y_dev), emotions.values())"
   ]
  },
  {
   "cell_type": "markdown",
   "id": "db5ddadf",
   "metadata": {},
   "source": [
    "#### 3.3.3. Checking overfitting"
   ]
  },
  {
   "cell_type": "code",
   "execution_count": 38,
   "id": "ec134ff4",
   "metadata": {},
   "outputs": [
    {
     "data": {
      "text/plain": [
       "(0.5165, 0.375)"
      ]
     },
     "execution_count": 38,
     "metadata": {},
     "output_type": "execute_result"
    }
   ],
   "source": [
    "checking_overfitting(modelxgb)"
   ]
  },
  {
   "cell_type": "markdown",
   "id": "ef5454ac",
   "metadata": {},
   "source": [
    "**Since this was our best model, we saved the results of the dev set in a file named dev_results.txt. Thus, each sentence is followed by a tab character and the label predicted by the model XGBoost.**"
   ]
  },
  {
   "cell_type": "code",
   "execution_count": 72,
   "id": "8e069209",
   "metadata": {},
   "outputs": [],
   "source": [
    "filename = open(\"dev_results.txt\", \"w+\")\n",
    "\n",
    "for idx, sentence in enumerate(dev_sentence):\n",
    "    filename.write(sentence + '\\t' + str(predict_dev[idx]+1) + '\\n')\n",
    "\n",
    "filename.close()"
   ]
  },
  {
   "cell_type": "markdown",
   "id": "e7f5d20d",
   "metadata": {},
   "source": [
    "**Since this was our best model, we saved the results of the test set in a file named test_results.txt. Thus, each sentence is followed by a tab character and the label predicted by the model XGBoost.**"
   ]
  },
  {
   "cell_type": "code",
   "execution_count": 73,
   "id": "7be3b17f",
   "metadata": {},
   "outputs": [],
   "source": [
    "filename = open(\"test_results.txt\", \"w+\")\n",
    "\n",
    "for idx, sentence in enumerate(test_sentence):\n",
    "    filename.write(sentence + '\\t' + str(predict_test[idx]+1) + '\\n')\n",
    "\n",
    "filename.close()"
   ]
  },
  {
   "cell_type": "markdown",
   "id": "ab8a18c3",
   "metadata": {},
   "source": [
    "### 3.4. Training the model using SVC"
   ]
  },
  {
   "cell_type": "code",
   "execution_count": 41,
   "id": "fbf3d24f",
   "metadata": {
    "scrolled": true
   },
   "outputs": [
    {
     "data": {
      "text/html": [
       "<style>#sk-container-id-4 {color: black;background-color: white;}#sk-container-id-4 pre{padding: 0;}#sk-container-id-4 div.sk-toggleable {background-color: white;}#sk-container-id-4 label.sk-toggleable__label {cursor: pointer;display: block;width: 100%;margin-bottom: 0;padding: 0.3em;box-sizing: border-box;text-align: center;}#sk-container-id-4 label.sk-toggleable__label-arrow:before {content: \"▸\";float: left;margin-right: 0.25em;color: #696969;}#sk-container-id-4 label.sk-toggleable__label-arrow:hover:before {color: black;}#sk-container-id-4 div.sk-estimator:hover label.sk-toggleable__label-arrow:before {color: black;}#sk-container-id-4 div.sk-toggleable__content {max-height: 0;max-width: 0;overflow: hidden;text-align: left;background-color: #f0f8ff;}#sk-container-id-4 div.sk-toggleable__content pre {margin: 0.2em;color: black;border-radius: 0.25em;background-color: #f0f8ff;}#sk-container-id-4 input.sk-toggleable__control:checked~div.sk-toggleable__content {max-height: 200px;max-width: 100%;overflow: auto;}#sk-container-id-4 input.sk-toggleable__control:checked~label.sk-toggleable__label-arrow:before {content: \"▾\";}#sk-container-id-4 div.sk-estimator input.sk-toggleable__control:checked~label.sk-toggleable__label {background-color: #d4ebff;}#sk-container-id-4 div.sk-label input.sk-toggleable__control:checked~label.sk-toggleable__label {background-color: #d4ebff;}#sk-container-id-4 input.sk-hidden--visually {border: 0;clip: rect(1px 1px 1px 1px);clip: rect(1px, 1px, 1px, 1px);height: 1px;margin: -1px;overflow: hidden;padding: 0;position: absolute;width: 1px;}#sk-container-id-4 div.sk-estimator {font-family: monospace;background-color: #f0f8ff;border: 1px dotted black;border-radius: 0.25em;box-sizing: border-box;margin-bottom: 0.5em;}#sk-container-id-4 div.sk-estimator:hover {background-color: #d4ebff;}#sk-container-id-4 div.sk-parallel-item::after {content: \"\";width: 100%;border-bottom: 1px solid gray;flex-grow: 1;}#sk-container-id-4 div.sk-label:hover label.sk-toggleable__label {background-color: #d4ebff;}#sk-container-id-4 div.sk-serial::before {content: \"\";position: absolute;border-left: 1px solid gray;box-sizing: border-box;top: 0;bottom: 0;left: 50%;z-index: 0;}#sk-container-id-4 div.sk-serial {display: flex;flex-direction: column;align-items: center;background-color: white;padding-right: 0.2em;padding-left: 0.2em;position: relative;}#sk-container-id-4 div.sk-item {position: relative;z-index: 1;}#sk-container-id-4 div.sk-parallel {display: flex;align-items: stretch;justify-content: center;background-color: white;position: relative;}#sk-container-id-4 div.sk-item::before, #sk-container-id-4 div.sk-parallel-item::before {content: \"\";position: absolute;border-left: 1px solid gray;box-sizing: border-box;top: 0;bottom: 0;left: 50%;z-index: -1;}#sk-container-id-4 div.sk-parallel-item {display: flex;flex-direction: column;z-index: 1;position: relative;background-color: white;}#sk-container-id-4 div.sk-parallel-item:first-child::after {align-self: flex-end;width: 50%;}#sk-container-id-4 div.sk-parallel-item:last-child::after {align-self: flex-start;width: 50%;}#sk-container-id-4 div.sk-parallel-item:only-child::after {width: 0;}#sk-container-id-4 div.sk-dashed-wrapped {border: 1px dashed gray;margin: 0 0.4em 0.5em 0.4em;box-sizing: border-box;padding-bottom: 0.4em;background-color: white;}#sk-container-id-4 div.sk-label label {font-family: monospace;font-weight: bold;display: inline-block;line-height: 1.2em;}#sk-container-id-4 div.sk-label-container {text-align: center;}#sk-container-id-4 div.sk-container {/* jupyter's `normalize.less` sets `[hidden] { display: none; }` but bootstrap.min.css set `[hidden] { display: none !important; }` so we also need the `!important` here to be able to override the default hidden behavior on the sphinx rendered scikit-learn.org. See: https://github.com/scikit-learn/scikit-learn/issues/21755 */display: inline-block !important;position: relative;}#sk-container-id-4 div.sk-text-repr-fallback {display: none;}</style><div id=\"sk-container-id-4\" class=\"sk-top-container\"><div class=\"sk-text-repr-fallback\"><pre>SVC(kernel=&#x27;linear&#x27;)</pre><b>In a Jupyter environment, please rerun this cell to show the HTML representation or trust the notebook. <br />On GitHub, the HTML representation is unable to render, please try loading this page with nbviewer.org.</b></div><div class=\"sk-container\" hidden><div class=\"sk-item\"><div class=\"sk-estimator sk-toggleable\"><input class=\"sk-toggleable__control sk-hidden--visually\" id=\"sk-estimator-id-4\" type=\"checkbox\" checked><label for=\"sk-estimator-id-4\" class=\"sk-toggleable__label sk-toggleable__label-arrow\">SVC</label><div class=\"sk-toggleable__content\"><pre>SVC(kernel=&#x27;linear&#x27;)</pre></div></div></div></div></div>"
      ],
      "text/plain": [
       "SVC(kernel='linear')"
      ]
     },
     "execution_count": 41,
     "metadata": {},
     "output_type": "execute_result"
    }
   ],
   "source": [
    "# Clustering the reviews with a SVC with a linear Kernel\n",
    "classifier_linear = svm.SVC(kernel='linear')\n",
    "# fit model on the training dataset\n",
    "classifier_linear.fit(x_train, y_train)"
   ]
  },
  {
   "cell_type": "markdown",
   "id": "9a3c3a1c",
   "metadata": {},
   "source": [
    "#### 3.4.1. Testing the model"
   ]
  },
  {
   "cell_type": "code",
   "execution_count": 42,
   "id": "9cec8d45",
   "metadata": {},
   "outputs": [],
   "source": [
    "predict_dev = classifier_linear.predict(x_dev)"
   ]
  },
  {
   "cell_type": "markdown",
   "id": "e7062738",
   "metadata": {},
   "source": [
    "#### 3.4.2. Evaluation"
   ]
  },
  {
   "cell_type": "code",
   "execution_count": 43,
   "id": "97cfd87c",
   "metadata": {},
   "outputs": [
    {
     "name": "stdout",
     "output_type": "stream",
     "text": [
      "              precision    recall  f1-score   support\n",
      "\n",
      "       Anger       0.33      0.67      0.44       211\n",
      "Anticipation       0.36      0.40      0.38       170\n",
      "     Disgust       0.31      0.05      0.09        77\n",
      "        Fear       0.33      0.18      0.24       104\n",
      "         Joy       0.40      0.43      0.41        97\n",
      "     Sadness       0.41      0.16      0.23        87\n",
      "    Surprise       0.46      0.17      0.24        96\n",
      "       Trust       0.34      0.29      0.32       158\n",
      "\n",
      "    accuracy                           0.35      1000\n",
      "   macro avg       0.37      0.29      0.29      1000\n",
      "weighted avg       0.36      0.35      0.32      1000\n",
      "\n"
     ]
    }
   ],
   "source": [
    "print(classification_report(y_dev, predict_dev, target_names=emotions.values()))"
   ]
  },
  {
   "cell_type": "code",
   "execution_count": 44,
   "id": "60baa8e9",
   "metadata": {},
   "outputs": [
    {
     "data": {
      "text/plain": [
       "array([[142,  50,  40,  50,  20,  36,  43,  52],\n",
       "       [ 25,  68,  15,  11,  15,  11,  11,  32],\n",
       "       [  4,   1,   4,   1,   0,   0,   1,   2],\n",
       "       [ 10,   6,   3,  19,   2,   7,   7,   3],\n",
       "       [  5,  13,   3,   4,  42,   9,  11,  19],\n",
       "       [  7,   1,   2,   4,   2,  14,   2,   2],\n",
       "       [  2,   4,   4,   3,   2,   2,  16,   2],\n",
       "       [ 16,  27,   6,  12,  14,   8,   5,  46]])"
      ]
     },
     "execution_count": 44,
     "metadata": {},
     "output_type": "execute_result"
    }
   ],
   "source": [
    "confusion_matrix(predict_dev, y_dev)"
   ]
  },
  {
   "cell_type": "code",
   "execution_count": 45,
   "id": "03864883",
   "metadata": {},
   "outputs": [
    {
     "data": {
      "image/png": "[encoded data removed]",
      "text/plain": [
       "<Figure size 432x288 with 2 Axes>"
      ]
     },
     "metadata": {
      "needs_background": "light"
     },
     "output_type": "display_data"
    }
   ],
   "source": [
    "plot_cm(confusion_matrix(predict_dev, y_dev), emotions.values())"
   ]
  },
  {
   "cell_type": "markdown",
   "id": "8b0b3d99",
   "metadata": {},
   "source": [
    "#### 3.4.3. Checking overfitting"
   ]
  },
  {
   "cell_type": "code",
   "execution_count": 46,
   "id": "b2c2425d",
   "metadata": {},
   "outputs": [
    {
     "data": {
      "text/plain": [
       "(0.6832857142857143, 0.351)"
      ]
     },
     "execution_count": 46,
     "metadata": {},
     "output_type": "execute_result"
    }
   ],
   "source": [
    "checking_overfitting(classifier_linear)"
   ]
  },
  {
   "cell_type": "markdown",
   "id": "7ba833fb",
   "metadata": {
    "id": "d299b781"
   },
   "source": [
    "## 4. Feature extraction using TF-IDF Vectorizer"
   ]
  },
  {
   "cell_type": "code",
   "execution_count": 47,
   "id": "6c9cf740",
   "metadata": {},
   "outputs": [
    {
     "data": {
      "text/plain": [
       "((14000, 1461), (14000,), (1000, 1461), (1000,))"
      ]
     },
     "execution_count": 47,
     "metadata": {},
     "output_type": "execute_result"
    }
   ],
   "source": [
    "vectorizer = TfidfVectorizer(min_df=5, max_df=0.8, sublinear_tf=True, use_idf=True)\n",
    "\n",
    "x_train = vectorizer.fit_transform(df_train['sentence'])\n",
    "x_dev = vectorizer.transform(df_dev['sentence'])\n",
    "\n",
    "x_train.shape, y_train.shape, x_dev.shape, y_dev.shape"
   ]
  },
  {
   "cell_type": "markdown",
   "id": "842e8f09",
   "metadata": {
    "id": "zeRXAXoFKY_J"
   },
   "source": [
    "### 4.1. Training the model using KNN"
   ]
  },
  {
   "cell_type": "code",
   "execution_count": 48,
   "id": "b32536c5",
   "metadata": {},
   "outputs": [
    {
     "data": {
      "text/html": [
       "<style>#sk-container-id-5 {color: black;background-color: white;}#sk-container-id-5 pre{padding: 0;}#sk-container-id-5 div.sk-toggleable {background-color: white;}#sk-container-id-5 label.sk-toggleable__label {cursor: pointer;display: block;width: 100%;margin-bottom: 0;padding: 0.3em;box-sizing: border-box;text-align: center;}#sk-container-id-5 label.sk-toggleable__label-arrow:before {content: \"▸\";float: left;margin-right: 0.25em;color: #696969;}#sk-container-id-5 label.sk-toggleable__label-arrow:hover:before {color: black;}#sk-container-id-5 div.sk-estimator:hover label.sk-toggleable__label-arrow:before {color: black;}#sk-container-id-5 div.sk-toggleable__content {max-height: 0;max-width: 0;overflow: hidden;text-align: left;background-color: #f0f8ff;}#sk-container-id-5 div.sk-toggleable__content pre {margin: 0.2em;color: black;border-radius: 0.25em;background-color: #f0f8ff;}#sk-container-id-5 input.sk-toggleable__control:checked~div.sk-toggleable__content {max-height: 200px;max-width: 100%;overflow: auto;}#sk-container-id-5 input.sk-toggleable__control:checked~label.sk-toggleable__label-arrow:before {content: \"▾\";}#sk-container-id-5 div.sk-estimator input.sk-toggleable__control:checked~label.sk-toggleable__label {background-color: #d4ebff;}#sk-container-id-5 div.sk-label input.sk-toggleable__control:checked~label.sk-toggleable__label {background-color: #d4ebff;}#sk-container-id-5 input.sk-hidden--visually {border: 0;clip: rect(1px 1px 1px 1px);clip: rect(1px, 1px, 1px, 1px);height: 1px;margin: -1px;overflow: hidden;padding: 0;position: absolute;width: 1px;}#sk-container-id-5 div.sk-estimator {font-family: monospace;background-color: #f0f8ff;border: 1px dotted black;border-radius: 0.25em;box-sizing: border-box;margin-bottom: 0.5em;}#sk-container-id-5 div.sk-estimator:hover {background-color: #d4ebff;}#sk-container-id-5 div.sk-parallel-item::after {content: \"\";width: 100%;border-bottom: 1px solid gray;flex-grow: 1;}#sk-container-id-5 div.sk-label:hover label.sk-toggleable__label {background-color: #d4ebff;}#sk-container-id-5 div.sk-serial::before {content: \"\";position: absolute;border-left: 1px solid gray;box-sizing: border-box;top: 0;bottom: 0;left: 50%;z-index: 0;}#sk-container-id-5 div.sk-serial {display: flex;flex-direction: column;align-items: center;background-color: white;padding-right: 0.2em;padding-left: 0.2em;position: relative;}#sk-container-id-5 div.sk-item {position: relative;z-index: 1;}#sk-container-id-5 div.sk-parallel {display: flex;align-items: stretch;justify-content: center;background-color: white;position: relative;}#sk-container-id-5 div.sk-item::before, #sk-container-id-5 div.sk-parallel-item::before {content: \"\";position: absolute;border-left: 1px solid gray;box-sizing: border-box;top: 0;bottom: 0;left: 50%;z-index: -1;}#sk-container-id-5 div.sk-parallel-item {display: flex;flex-direction: column;z-index: 1;position: relative;background-color: white;}#sk-container-id-5 div.sk-parallel-item:first-child::after {align-self: flex-end;width: 50%;}#sk-container-id-5 div.sk-parallel-item:last-child::after {align-self: flex-start;width: 50%;}#sk-container-id-5 div.sk-parallel-item:only-child::after {width: 0;}#sk-container-id-5 div.sk-dashed-wrapped {border: 1px dashed gray;margin: 0 0.4em 0.5em 0.4em;box-sizing: border-box;padding-bottom: 0.4em;background-color: white;}#sk-container-id-5 div.sk-label label {font-family: monospace;font-weight: bold;display: inline-block;line-height: 1.2em;}#sk-container-id-5 div.sk-label-container {text-align: center;}#sk-container-id-5 div.sk-container {/* jupyter's `normalize.less` sets `[hidden] { display: none; }` but bootstrap.min.css set `[hidden] { display: none !important; }` so we also need the `!important` here to be able to override the default hidden behavior on the sphinx rendered scikit-learn.org. See: https://github.com/scikit-learn/scikit-learn/issues/21755 */display: inline-block !important;position: relative;}#sk-container-id-5 div.sk-text-repr-fallback {display: none;}</style><div id=\"sk-container-id-5\" class=\"sk-top-container\"><div class=\"sk-text-repr-fallback\"><pre>KNeighborsClassifier(algorithm=&#x27;brute&#x27;, metric=&#x27;cosine&#x27;, n_jobs=1,\n",
       "                     n_neighbors=7, weights=&#x27;distance&#x27;)</pre><b>In a Jupyter environment, please rerun this cell to show the HTML representation or trust the notebook. <br />On GitHub, the HTML representation is unable to render, please try loading this page with nbviewer.org.</b></div><div class=\"sk-container\" hidden><div class=\"sk-item\"><div class=\"sk-estimator sk-toggleable\"><input class=\"sk-toggleable__control sk-hidden--visually\" id=\"sk-estimator-id-5\" type=\"checkbox\" checked><label for=\"sk-estimator-id-5\" class=\"sk-toggleable__label sk-toggleable__label-arrow\">KNeighborsClassifier</label><div class=\"sk-toggleable__content\"><pre>KNeighborsClassifier(algorithm=&#x27;brute&#x27;, metric=&#x27;cosine&#x27;, n_jobs=1,\n",
       "                     n_neighbors=7, weights=&#x27;distance&#x27;)</pre></div></div></div></div></div>"
      ],
      "text/plain": [
       "KNeighborsClassifier(algorithm='brute', metric='cosine', n_jobs=1,\n",
       "                     n_neighbors=7, weights='distance')"
      ]
     },
     "execution_count": 48,
     "metadata": {},
     "output_type": "execute_result"
    }
   ],
   "source": [
    "# Clustering the reviews with a KNN classifier\n",
    "# n_neighbors=7 has the best accuracy\n",
    "modelknn = KNeighborsClassifier(n_neighbors=7, weights='distance', algorithm='brute', leaf_size=30, p=2,\n",
    "                                         metric='cosine', metric_params=None, n_jobs=1)\n",
    "# fit model on the training dataset\n",
    "modelknn.fit(x_train, y_train)"
   ]
  },
  {
   "cell_type": "markdown",
   "id": "72b5805f",
   "metadata": {},
   "source": [
    "#### 4.1.1. Testing the model"
   ]
  },
  {
   "cell_type": "code",
   "execution_count": 49,
   "id": "93d66d8c",
   "metadata": {},
   "outputs": [],
   "source": [
    "predict_dev = modelknn.predict(x_dev)"
   ]
  },
  {
   "cell_type": "markdown",
   "id": "2d5575f0",
   "metadata": {},
   "source": [
    "#### 4.1.2. Evaluation"
   ]
  },
  {
   "cell_type": "code",
   "execution_count": 50,
   "id": "7f5ea0f0",
   "metadata": {},
   "outputs": [
    {
     "name": "stdout",
     "output_type": "stream",
     "text": [
      "              precision    recall  f1-score   support\n",
      "\n",
      "       Anger       0.50      0.36      0.42       292\n",
      "Anticipation       0.35      0.36      0.35       164\n",
      "     Disgust       0.10      0.17      0.13        47\n",
      "        Fear       0.24      0.27      0.25        93\n",
      "         Joy       0.36      0.32      0.34       111\n",
      "     Sadness       0.22      0.28      0.25        68\n",
      "    Surprise       0.23      0.28      0.25        79\n",
      "       Trust       0.35      0.38      0.36       146\n",
      "\n",
      "    accuracy                           0.33      1000\n",
      "   macro avg       0.29      0.30      0.29      1000\n",
      "weighted avg       0.35      0.33      0.34      1000\n",
      "\n"
     ]
    }
   ],
   "source": [
    "print(classification_report(predict_dev, y_dev, target_names=emotions.values()))"
   ]
  },
  {
   "cell_type": "code",
   "execution_count": 51,
   "id": "453bf74a",
   "metadata": {
    "scrolled": true
   },
   "outputs": [
    {
     "data": {
      "text/plain": [
       "array([[105,  38,  24,  26,  14,  24,  32,  29],\n",
       "       [ 21,  59,  15,  15,  10,  11,  11,  22],\n",
       "       [ 11,  10,   8,   4,   1,   4,   2,   7],\n",
       "       [ 21,  10,   6,  25,   6,   8,   6,  11],\n",
       "       [  8,  15,   5,   4,  35,   9,  12,  23],\n",
       "       [ 14,   6,   4,   8,   7,  19,   6,   4],\n",
       "       [ 12,  12,   8,   7,   6,   5,  22,   7],\n",
       "       [ 19,  20,   7,  15,  18,   7,   5,  55]])"
      ]
     },
     "execution_count": 51,
     "metadata": {},
     "output_type": "execute_result"
    }
   ],
   "source": [
    "confusion_matrix(predict_dev, y_dev)"
   ]
  },
  {
   "cell_type": "code",
   "execution_count": 52,
   "id": "da1303d2",
   "metadata": {},
   "outputs": [
    {
     "data": {
      "image/png": "[encoded data removed]",
      "text/plain": [
       "<Figure size 432x288 with 2 Axes>"
      ]
     },
     "metadata": {
      "needs_background": "light"
     },
     "output_type": "display_data"
    }
   ],
   "source": [
    "plot_cm(confusion_matrix(predict_dev, y_dev), emotions.values())"
   ]
  },
  {
   "cell_type": "markdown",
   "id": "6b71acbd",
   "metadata": {},
   "source": [
    "#### 4.1.3. Checking overfitting"
   ]
  },
  {
   "cell_type": "code",
   "execution_count": 53,
   "id": "5db82aa3",
   "metadata": {},
   "outputs": [
    {
     "data": {
      "text/plain": [
       "(0.9652142857142857, 0.328)"
      ]
     },
     "execution_count": 53,
     "metadata": {},
     "output_type": "execute_result"
    }
   ],
   "source": [
    "checking_overfitting(modelknn)"
   ]
  },
  {
   "cell_type": "markdown",
   "id": "c1986984",
   "metadata": {
    "id": "zeRXAXoFKY_J"
   },
   "source": [
    "### 4.2. Training the model using Random Forest"
   ]
  },
  {
   "cell_type": "code",
   "execution_count": 54,
   "id": "8671684c",
   "metadata": {
    "scrolled": true
   },
   "outputs": [
    {
     "data": {
      "text/html": [
       "<style>#sk-container-id-6 {color: black;background-color: white;}#sk-container-id-6 pre{padding: 0;}#sk-container-id-6 div.sk-toggleable {background-color: white;}#sk-container-id-6 label.sk-toggleable__label {cursor: pointer;display: block;width: 100%;margin-bottom: 0;padding: 0.3em;box-sizing: border-box;text-align: center;}#sk-container-id-6 label.sk-toggleable__label-arrow:before {content: \"▸\";float: left;margin-right: 0.25em;color: #696969;}#sk-container-id-6 label.sk-toggleable__label-arrow:hover:before {color: black;}#sk-container-id-6 div.sk-estimator:hover label.sk-toggleable__label-arrow:before {color: black;}#sk-container-id-6 div.sk-toggleable__content {max-height: 0;max-width: 0;overflow: hidden;text-align: left;background-color: #f0f8ff;}#sk-container-id-6 div.sk-toggleable__content pre {margin: 0.2em;color: black;border-radius: 0.25em;background-color: #f0f8ff;}#sk-container-id-6 input.sk-toggleable__control:checked~div.sk-toggleable__content {max-height: 200px;max-width: 100%;overflow: auto;}#sk-container-id-6 input.sk-toggleable__control:checked~label.sk-toggleable__label-arrow:before {content: \"▾\";}#sk-container-id-6 div.sk-estimator input.sk-toggleable__control:checked~label.sk-toggleable__label {background-color: #d4ebff;}#sk-container-id-6 div.sk-label input.sk-toggleable__control:checked~label.sk-toggleable__label {background-color: #d4ebff;}#sk-container-id-6 input.sk-hidden--visually {border: 0;clip: rect(1px 1px 1px 1px);clip: rect(1px, 1px, 1px, 1px);height: 1px;margin: -1px;overflow: hidden;padding: 0;position: absolute;width: 1px;}#sk-container-id-6 div.sk-estimator {font-family: monospace;background-color: #f0f8ff;border: 1px dotted black;border-radius: 0.25em;box-sizing: border-box;margin-bottom: 0.5em;}#sk-container-id-6 div.sk-estimator:hover {background-color: #d4ebff;}#sk-container-id-6 div.sk-parallel-item::after {content: \"\";width: 100%;border-bottom: 1px solid gray;flex-grow: 1;}#sk-container-id-6 div.sk-label:hover label.sk-toggleable__label {background-color: #d4ebff;}#sk-container-id-6 div.sk-serial::before {content: \"\";position: absolute;border-left: 1px solid gray;box-sizing: border-box;top: 0;bottom: 0;left: 50%;z-index: 0;}#sk-container-id-6 div.sk-serial {display: flex;flex-direction: column;align-items: center;background-color: white;padding-right: 0.2em;padding-left: 0.2em;position: relative;}#sk-container-id-6 div.sk-item {position: relative;z-index: 1;}#sk-container-id-6 div.sk-parallel {display: flex;align-items: stretch;justify-content: center;background-color: white;position: relative;}#sk-container-id-6 div.sk-item::before, #sk-container-id-6 div.sk-parallel-item::before {content: \"\";position: absolute;border-left: 1px solid gray;box-sizing: border-box;top: 0;bottom: 0;left: 50%;z-index: -1;}#sk-container-id-6 div.sk-parallel-item {display: flex;flex-direction: column;z-index: 1;position: relative;background-color: white;}#sk-container-id-6 div.sk-parallel-item:first-child::after {align-self: flex-end;width: 50%;}#sk-container-id-6 div.sk-parallel-item:last-child::after {align-self: flex-start;width: 50%;}#sk-container-id-6 div.sk-parallel-item:only-child::after {width: 0;}#sk-container-id-6 div.sk-dashed-wrapped {border: 1px dashed gray;margin: 0 0.4em 0.5em 0.4em;box-sizing: border-box;padding-bottom: 0.4em;background-color: white;}#sk-container-id-6 div.sk-label label {font-family: monospace;font-weight: bold;display: inline-block;line-height: 1.2em;}#sk-container-id-6 div.sk-label-container {text-align: center;}#sk-container-id-6 div.sk-container {/* jupyter's `normalize.less` sets `[hidden] { display: none; }` but bootstrap.min.css set `[hidden] { display: none !important; }` so we also need the `!important` here to be able to override the default hidden behavior on the sphinx rendered scikit-learn.org. See: https://github.com/scikit-learn/scikit-learn/issues/21755 */display: inline-block !important;position: relative;}#sk-container-id-6 div.sk-text-repr-fallback {display: none;}</style><div id=\"sk-container-id-6\" class=\"sk-top-container\"><div class=\"sk-text-repr-fallback\"><pre>RandomForestClassifier(n_jobs=1, oob_score=True, random_state=1)</pre><b>In a Jupyter environment, please rerun this cell to show the HTML representation or trust the notebook. <br />On GitHub, the HTML representation is unable to render, please try loading this page with nbviewer.org.</b></div><div class=\"sk-container\" hidden><div class=\"sk-item\"><div class=\"sk-estimator sk-toggleable\"><input class=\"sk-toggleable__control sk-hidden--visually\" id=\"sk-estimator-id-6\" type=\"checkbox\" checked><label for=\"sk-estimator-id-6\" class=\"sk-toggleable__label sk-toggleable__label-arrow\">RandomForestClassifier</label><div class=\"sk-toggleable__content\"><pre>RandomForestClassifier(n_jobs=1, oob_score=True, random_state=1)</pre></div></div></div></div></div>"
      ],
      "text/plain": [
       "RandomForestClassifier(n_jobs=1, oob_score=True, random_state=1)"
      ]
     },
     "execution_count": 54,
     "metadata": {},
     "output_type": "execute_result"
    }
   ],
   "source": [
    "# Clustering the reviews with a Random Forest classifier\n",
    "modelrf = RandomForestClassifier(n_estimators=100, oob_score=True, n_jobs=1, random_state=1)\n",
    "# fit model on the training dataset\n",
    "modelrf.fit(x_train, y_train)"
   ]
  },
  {
   "cell_type": "markdown",
   "id": "2f8b1cdf",
   "metadata": {},
   "source": [
    "#### 4.2.1. Testing the model"
   ]
  },
  {
   "cell_type": "code",
   "execution_count": 55,
   "id": "52aa6d96",
   "metadata": {},
   "outputs": [],
   "source": [
    "predict_dev = modelrf.predict(x_dev)"
   ]
  },
  {
   "cell_type": "markdown",
   "id": "a776bb3b",
   "metadata": {},
   "source": [
    "#### 4.2.2. Evaluation"
   ]
  },
  {
   "cell_type": "code",
   "execution_count": 56,
   "id": "59430686",
   "metadata": {},
   "outputs": [
    {
     "name": "stdout",
     "output_type": "stream",
     "text": [
      "              precision    recall  f1-score   support\n",
      "\n",
      "       Anger       0.63      0.35      0.45       374\n",
      "Anticipation       0.42      0.41      0.42       176\n",
      "     Disgust       0.08      0.15      0.10        41\n",
      "        Fear       0.21      0.35      0.26        63\n",
      "         Joy       0.41      0.37      0.39       107\n",
      "     Sadness       0.28      0.41      0.33        58\n",
      "    Surprise       0.19      0.33      0.24        55\n",
      "       Trust       0.32      0.40      0.36       126\n",
      "\n",
      "    accuracy                           0.36      1000\n",
      "   macro avg       0.32      0.35      0.32      1000\n",
      "weighted avg       0.44      0.36      0.38      1000\n",
      "\n"
     ]
    }
   ],
   "source": [
    "print(classification_report(predict_dev, y_dev, target_names=emotions.values()))"
   ]
  },
  {
   "cell_type": "code",
   "execution_count": 57,
   "id": "bfa2cc4f",
   "metadata": {},
   "outputs": [
    {
     "data": {
      "text/plain": [
       "array([[132,  42,  36,  38,  16,  28,  42,  40],\n",
       "       [ 23,  72,   9,  16,  16,   7,   7,  26],\n",
       "       [ 10,   5,   6,   3,   5,   4,   6,   2],\n",
       "       [  7,  10,   7,  22,   0,   7,   4,   6],\n",
       "       [  3,  13,   3,   6,  40,  10,   7,  25],\n",
       "       [ 11,   3,   4,   3,   3,  24,   8,   2],\n",
       "       [  7,  10,   3,   8,   3,   0,  18,   6],\n",
       "       [ 18,  15,   9,   8,  14,   7,   4,  51]])"
      ]
     },
     "execution_count": 57,
     "metadata": {},
     "output_type": "execute_result"
    }
   ],
   "source": [
    "confusion_matrix(predict_dev, y_dev)"
   ]
  },
  {
   "cell_type": "code",
   "execution_count": 58,
   "id": "d415fb7c",
   "metadata": {},
   "outputs": [
    {
     "data": {
      "image/png": "[encoded data removed]",
      "text/plain": [
       "<Figure size 432x288 with 2 Axes>"
      ]
     },
     "metadata": {
      "needs_background": "light"
     },
     "output_type": "display_data"
    }
   ],
   "source": [
    "plot_cm(confusion_matrix(predict_dev, y_dev), emotions.values())"
   ]
  },
  {
   "cell_type": "markdown",
   "id": "9d15c903",
   "metadata": {},
   "source": [
    "#### 4.2.3. Checking overfitting"
   ]
  },
  {
   "cell_type": "code",
   "execution_count": 59,
   "id": "f0469d13",
   "metadata": {},
   "outputs": [
    {
     "data": {
      "text/plain": [
       "(0.9655714285714285, 0.365)"
      ]
     },
     "execution_count": 59,
     "metadata": {},
     "output_type": "execute_result"
    }
   ],
   "source": [
    "checking_overfitting(modelrf)"
   ]
  },
  {
   "cell_type": "markdown",
   "id": "8214a733",
   "metadata": {},
   "source": [
    "### 4.3. Training the model using XGBoost"
   ]
  },
  {
   "cell_type": "code",
   "execution_count": 60,
   "id": "644616b8",
   "metadata": {
    "scrolled": true
   },
   "outputs": [
    {
     "data": {
      "text/html": [
       "<style>#sk-container-id-7 {color: black;background-color: white;}#sk-container-id-7 pre{padding: 0;}#sk-container-id-7 div.sk-toggleable {background-color: white;}#sk-container-id-7 label.sk-toggleable__label {cursor: pointer;display: block;width: 100%;margin-bottom: 0;padding: 0.3em;box-sizing: border-box;text-align: center;}#sk-container-id-7 label.sk-toggleable__label-arrow:before {content: \"▸\";float: left;margin-right: 0.25em;color: #696969;}#sk-container-id-7 label.sk-toggleable__label-arrow:hover:before {color: black;}#sk-container-id-7 div.sk-estimator:hover label.sk-toggleable__label-arrow:before {color: black;}#sk-container-id-7 div.sk-toggleable__content {max-height: 0;max-width: 0;overflow: hidden;text-align: left;background-color: #f0f8ff;}#sk-container-id-7 div.sk-toggleable__content pre {margin: 0.2em;color: black;border-radius: 0.25em;background-color: #f0f8ff;}#sk-container-id-7 input.sk-toggleable__control:checked~div.sk-toggleable__content {max-height: 200px;max-width: 100%;overflow: auto;}#sk-container-id-7 input.sk-toggleable__control:checked~label.sk-toggleable__label-arrow:before {content: \"▾\";}#sk-container-id-7 div.sk-estimator input.sk-toggleable__control:checked~label.sk-toggleable__label {background-color: #d4ebff;}#sk-container-id-7 div.sk-label input.sk-toggleable__control:checked~label.sk-toggleable__label {background-color: #d4ebff;}#sk-container-id-7 input.sk-hidden--visually {border: 0;clip: rect(1px 1px 1px 1px);clip: rect(1px, 1px, 1px, 1px);height: 1px;margin: -1px;overflow: hidden;padding: 0;position: absolute;width: 1px;}#sk-container-id-7 div.sk-estimator {font-family: monospace;background-color: #f0f8ff;border: 1px dotted black;border-radius: 0.25em;box-sizing: border-box;margin-bottom: 0.5em;}#sk-container-id-7 div.sk-estimator:hover {background-color: #d4ebff;}#sk-container-id-7 div.sk-parallel-item::after {content: \"\";width: 100%;border-bottom: 1px solid gray;flex-grow: 1;}#sk-container-id-7 div.sk-label:hover label.sk-toggleable__label {background-color: #d4ebff;}#sk-container-id-7 div.sk-serial::before {content: \"\";position: absolute;border-left: 1px solid gray;box-sizing: border-box;top: 0;bottom: 0;left: 50%;z-index: 0;}#sk-container-id-7 div.sk-serial {display: flex;flex-direction: column;align-items: center;background-color: white;padding-right: 0.2em;padding-left: 0.2em;position: relative;}#sk-container-id-7 div.sk-item {position: relative;z-index: 1;}#sk-container-id-7 div.sk-parallel {display: flex;align-items: stretch;justify-content: center;background-color: white;position: relative;}#sk-container-id-7 div.sk-item::before, #sk-container-id-7 div.sk-parallel-item::before {content: \"\";position: absolute;border-left: 1px solid gray;box-sizing: border-box;top: 0;bottom: 0;left: 50%;z-index: -1;}#sk-container-id-7 div.sk-parallel-item {display: flex;flex-direction: column;z-index: 1;position: relative;background-color: white;}#sk-container-id-7 div.sk-parallel-item:first-child::after {align-self: flex-end;width: 50%;}#sk-container-id-7 div.sk-parallel-item:last-child::after {align-self: flex-start;width: 50%;}#sk-container-id-7 div.sk-parallel-item:only-child::after {width: 0;}#sk-container-id-7 div.sk-dashed-wrapped {border: 1px dashed gray;margin: 0 0.4em 0.5em 0.4em;box-sizing: border-box;padding-bottom: 0.4em;background-color: white;}#sk-container-id-7 div.sk-label label {font-family: monospace;font-weight: bold;display: inline-block;line-height: 1.2em;}#sk-container-id-7 div.sk-label-container {text-align: center;}#sk-container-id-7 div.sk-container {/* jupyter's `normalize.less` sets `[hidden] { display: none; }` but bootstrap.min.css set `[hidden] { display: none !important; }` so we also need the `!important` here to be able to override the default hidden behavior on the sphinx rendered scikit-learn.org. See: https://github.com/scikit-learn/scikit-learn/issues/21755 */display: inline-block !important;position: relative;}#sk-container-id-7 div.sk-text-repr-fallback {display: none;}</style><div id=\"sk-container-id-7\" class=\"sk-top-container\"><div class=\"sk-text-repr-fallback\"><pre>XGBClassifier(base_score=0.5, booster=&#x27;gbtree&#x27;, callbacks=None,\n",
       "              colsample_bylevel=1, colsample_bynode=1, colsample_bytree=1,\n",
       "              early_stopping_rounds=None, enable_categorical=False,\n",
       "              eval_metric=&#x27;mlogloss&#x27;, gamma=0, gpu_id=-1,\n",
       "              grow_policy=&#x27;depthwise&#x27;, importance_type=None,\n",
       "              interaction_constraints=&#x27;&#x27;, learning_rate=0.300000012,\n",
       "              max_bin=256, max_cat_to_onehot=4, max_delta_step=0, max_depth=6,\n",
       "              max_leaves=0, min_child_weight=1, missing=nan,\n",
       "              monotone_constraints=&#x27;()&#x27;, n_estimators=100, n_jobs=0,\n",
       "              num_parallel_tree=1, objective=&#x27;multi:softprob&#x27;, predictor=&#x27;auto&#x27;,\n",
       "              random_state=0, reg_alpha=0, ...)</pre><b>In a Jupyter environment, please rerun this cell to show the HTML representation or trust the notebook. <br />On GitHub, the HTML representation is unable to render, please try loading this page with nbviewer.org.</b></div><div class=\"sk-container\" hidden><div class=\"sk-item\"><div class=\"sk-estimator sk-toggleable\"><input class=\"sk-toggleable__control sk-hidden--visually\" id=\"sk-estimator-id-7\" type=\"checkbox\" checked><label for=\"sk-estimator-id-7\" class=\"sk-toggleable__label sk-toggleable__label-arrow\">XGBClassifier</label><div class=\"sk-toggleable__content\"><pre>XGBClassifier(base_score=0.5, booster=&#x27;gbtree&#x27;, callbacks=None,\n",
       "              colsample_bylevel=1, colsample_bynode=1, colsample_bytree=1,\n",
       "              early_stopping_rounds=None, enable_categorical=False,\n",
       "              eval_metric=&#x27;mlogloss&#x27;, gamma=0, gpu_id=-1,\n",
       "              grow_policy=&#x27;depthwise&#x27;, importance_type=None,\n",
       "              interaction_constraints=&#x27;&#x27;, learning_rate=0.300000012,\n",
       "              max_bin=256, max_cat_to_onehot=4, max_delta_step=0, max_depth=6,\n",
       "              max_leaves=0, min_child_weight=1, missing=nan,\n",
       "              monotone_constraints=&#x27;()&#x27;, n_estimators=100, n_jobs=0,\n",
       "              num_parallel_tree=1, objective=&#x27;multi:softprob&#x27;, predictor=&#x27;auto&#x27;,\n",
       "              random_state=0, reg_alpha=0, ...)</pre></div></div></div></div></div>"
      ],
      "text/plain": [
       "XGBClassifier(base_score=0.5, booster='gbtree', callbacks=None,\n",
       "              colsample_bylevel=1, colsample_bynode=1, colsample_bytree=1,\n",
       "              early_stopping_rounds=None, enable_categorical=False,\n",
       "              eval_metric='mlogloss', gamma=0, gpu_id=-1,\n",
       "              grow_policy='depthwise', importance_type=None,\n",
       "              interaction_constraints='', learning_rate=0.300000012,\n",
       "              max_bin=256, max_cat_to_onehot=4, max_delta_step=0, max_depth=6,\n",
       "              max_leaves=0, min_child_weight=1, missing=nan,\n",
       "              monotone_constraints='()', n_estimators=100, n_jobs=0,\n",
       "              num_parallel_tree=1, objective='multi:softprob', predictor='auto',\n",
       "              random_state=0, reg_alpha=0, ...)"
      ]
     },
     "execution_count": 60,
     "metadata": {},
     "output_type": "execute_result"
    }
   ],
   "source": [
    "# Clustering the reviews with a XGBoost classifier\n",
    "modelxgb = xgb.XGBClassifier(use_label_encoder=False, eval_metric='mlogloss')\n",
    "# fit model on the training dataset\n",
    "modelxgb.fit(x_train, y_train)"
   ]
  },
  {
   "cell_type": "markdown",
   "id": "baf05b2a",
   "metadata": {},
   "source": [
    "#### 4.3.1. Testing the model"
   ]
  },
  {
   "cell_type": "code",
   "execution_count": 61,
   "id": "ec710b26",
   "metadata": {},
   "outputs": [],
   "source": [
    "predict_dev = modelxgb.predict(x_dev)"
   ]
  },
  {
   "cell_type": "markdown",
   "id": "05202e71",
   "metadata": {},
   "source": [
    "#### 4.3.2. Evaluation"
   ]
  },
  {
   "cell_type": "code",
   "execution_count": 62,
   "id": "6101ec28",
   "metadata": {},
   "outputs": [
    {
     "name": "stdout",
     "output_type": "stream",
     "text": [
      "              precision    recall  f1-score   support\n",
      "\n",
      "       Anger       0.33      0.63      0.43       211\n",
      "Anticipation       0.41      0.39      0.40       170\n",
      "     Disgust       0.22      0.10      0.14        77\n",
      "        Fear       0.35      0.21      0.27       104\n",
      "         Joy       0.42      0.38      0.40        97\n",
      "     Sadness       0.27      0.21      0.24        87\n",
      "    Surprise       0.37      0.23      0.28        96\n",
      "       Trust       0.40      0.31      0.35       158\n",
      "\n",
      "    accuracy                           0.36      1000\n",
      "   macro avg       0.35      0.31      0.31      1000\n",
      "weighted avg       0.36      0.35      0.34      1000\n",
      "\n"
     ]
    }
   ],
   "source": [
    "print(classification_report(y_dev, predict_dev, target_names=emotions.values()))"
   ]
  },
  {
   "cell_type": "code",
   "execution_count": 63,
   "id": "a190da30",
   "metadata": {},
   "outputs": [
    {
     "data": {
      "text/plain": [
       "array([[133,  45,  41,  46,  19,  34,  39,  48],\n",
       "       [ 22,  66,   8,   9,  13,  11,   6,  25],\n",
       "       [ 14,   6,   8,   1,   1,   2,   0,   4],\n",
       "       [  7,   9,   5,  22,   1,   8,   5,   5],\n",
       "       [  0,  10,   4,   6,  37,   7,   7,  18],\n",
       "       [ 12,   5,   5,   4,   4,  18,  12,   6],\n",
       "       [ 10,   9,   2,   5,   6,   3,  22,   3],\n",
       "       [ 13,  20,   4,  11,  16,   4,   5,  49]])"
      ]
     },
     "execution_count": 63,
     "metadata": {},
     "output_type": "execute_result"
    }
   ],
   "source": [
    "confusion_matrix(predict_dev, y_dev)"
   ]
  },
  {
   "cell_type": "code",
   "execution_count": 64,
   "id": "9f8865f7",
   "metadata": {},
   "outputs": [
    {
     "data": {
      "image/png": "[encoded data removed]",
      "text/plain": [
       "<Figure size 432x288 with 2 Axes>"
      ]
     },
     "metadata": {
      "needs_background": "light"
     },
     "output_type": "display_data"
    }
   ],
   "source": [
    "plot_cm(confusion_matrix(predict_dev, y_dev), emotions.values())"
   ]
  },
  {
   "cell_type": "markdown",
   "id": "6acc9341",
   "metadata": {},
   "source": [
    "#### 4.3.3. Checking overfitting"
   ]
  },
  {
   "cell_type": "code",
   "execution_count": 65,
   "id": "7b6f6b8c",
   "metadata": {},
   "outputs": [
    {
     "data": {
      "text/plain": [
       "(0.6192142857142857, 0.355)"
      ]
     },
     "execution_count": 65,
     "metadata": {},
     "output_type": "execute_result"
    }
   ],
   "source": [
    "checking_overfitting(modelxgb)"
   ]
  },
  {
   "cell_type": "markdown",
   "id": "f64cae4d",
   "metadata": {},
   "source": [
    "### 4.4. Training the model using SVC"
   ]
  },
  {
   "cell_type": "code",
   "execution_count": 66,
   "id": "c271bba0",
   "metadata": {
    "scrolled": true
   },
   "outputs": [
    {
     "data": {
      "text/html": [
       "<style>#sk-container-id-8 {color: black;background-color: white;}#sk-container-id-8 pre{padding: 0;}#sk-container-id-8 div.sk-toggleable {background-color: white;}#sk-container-id-8 label.sk-toggleable__label {cursor: pointer;display: block;width: 100%;margin-bottom: 0;padding: 0.3em;box-sizing: border-box;text-align: center;}#sk-container-id-8 label.sk-toggleable__label-arrow:before {content: \"▸\";float: left;margin-right: 0.25em;color: #696969;}#sk-container-id-8 label.sk-toggleable__label-arrow:hover:before {color: black;}#sk-container-id-8 div.sk-estimator:hover label.sk-toggleable__label-arrow:before {color: black;}#sk-container-id-8 div.sk-toggleable__content {max-height: 0;max-width: 0;overflow: hidden;text-align: left;background-color: #f0f8ff;}#sk-container-id-8 div.sk-toggleable__content pre {margin: 0.2em;color: black;border-radius: 0.25em;background-color: #f0f8ff;}#sk-container-id-8 input.sk-toggleable__control:checked~div.sk-toggleable__content {max-height: 200px;max-width: 100%;overflow: auto;}#sk-container-id-8 input.sk-toggleable__control:checked~label.sk-toggleable__label-arrow:before {content: \"▾\";}#sk-container-id-8 div.sk-estimator input.sk-toggleable__control:checked~label.sk-toggleable__label {background-color: #d4ebff;}#sk-container-id-8 div.sk-label input.sk-toggleable__control:checked~label.sk-toggleable__label {background-color: #d4ebff;}#sk-container-id-8 input.sk-hidden--visually {border: 0;clip: rect(1px 1px 1px 1px);clip: rect(1px, 1px, 1px, 1px);height: 1px;margin: -1px;overflow: hidden;padding: 0;position: absolute;width: 1px;}#sk-container-id-8 div.sk-estimator {font-family: monospace;background-color: #f0f8ff;border: 1px dotted black;border-radius: 0.25em;box-sizing: border-box;margin-bottom: 0.5em;}#sk-container-id-8 div.sk-estimator:hover {background-color: #d4ebff;}#sk-container-id-8 div.sk-parallel-item::after {content: \"\";width: 100%;border-bottom: 1px solid gray;flex-grow: 1;}#sk-container-id-8 div.sk-label:hover label.sk-toggleable__label {background-color: #d4ebff;}#sk-container-id-8 div.sk-serial::before {content: \"\";position: absolute;border-left: 1px solid gray;box-sizing: border-box;top: 0;bottom: 0;left: 50%;z-index: 0;}#sk-container-id-8 div.sk-serial {display: flex;flex-direction: column;align-items: center;background-color: white;padding-right: 0.2em;padding-left: 0.2em;position: relative;}#sk-container-id-8 div.sk-item {position: relative;z-index: 1;}#sk-container-id-8 div.sk-parallel {display: flex;align-items: stretch;justify-content: center;background-color: white;position: relative;}#sk-container-id-8 div.sk-item::before, #sk-container-id-8 div.sk-parallel-item::before {content: \"\";position: absolute;border-left: 1px solid gray;box-sizing: border-box;top: 0;bottom: 0;left: 50%;z-index: -1;}#sk-container-id-8 div.sk-parallel-item {display: flex;flex-direction: column;z-index: 1;position: relative;background-color: white;}#sk-container-id-8 div.sk-parallel-item:first-child::after {align-self: flex-end;width: 50%;}#sk-container-id-8 div.sk-parallel-item:last-child::after {align-self: flex-start;width: 50%;}#sk-container-id-8 div.sk-parallel-item:only-child::after {width: 0;}#sk-container-id-8 div.sk-dashed-wrapped {border: 1px dashed gray;margin: 0 0.4em 0.5em 0.4em;box-sizing: border-box;padding-bottom: 0.4em;background-color: white;}#sk-container-id-8 div.sk-label label {font-family: monospace;font-weight: bold;display: inline-block;line-height: 1.2em;}#sk-container-id-8 div.sk-label-container {text-align: center;}#sk-container-id-8 div.sk-container {/* jupyter's `normalize.less` sets `[hidden] { display: none; }` but bootstrap.min.css set `[hidden] { display: none !important; }` so we also need the `!important` here to be able to override the default hidden behavior on the sphinx rendered scikit-learn.org. See: https://github.com/scikit-learn/scikit-learn/issues/21755 */display: inline-block !important;position: relative;}#sk-container-id-8 div.sk-text-repr-fallback {display: none;}</style><div id=\"sk-container-id-8\" class=\"sk-top-container\"><div class=\"sk-text-repr-fallback\"><pre>SVC(kernel=&#x27;linear&#x27;)</pre><b>In a Jupyter environment, please rerun this cell to show the HTML representation or trust the notebook. <br />On GitHub, the HTML representation is unable to render, please try loading this page with nbviewer.org.</b></div><div class=\"sk-container\" hidden><div class=\"sk-item\"><div class=\"sk-estimator sk-toggleable\"><input class=\"sk-toggleable__control sk-hidden--visually\" id=\"sk-estimator-id-8\" type=\"checkbox\" checked><label for=\"sk-estimator-id-8\" class=\"sk-toggleable__label sk-toggleable__label-arrow\">SVC</label><div class=\"sk-toggleable__content\"><pre>SVC(kernel=&#x27;linear&#x27;)</pre></div></div></div></div></div>"
      ],
      "text/plain": [
       "SVC(kernel='linear')"
      ]
     },
     "execution_count": 66,
     "metadata": {},
     "output_type": "execute_result"
    }
   ],
   "source": [
    "# Clustering the reviews with a SVC with a linear Kernel\n",
    "classifier_linear = svm.SVC(kernel='linear')\n",
    "# Fit model on the training dataset\n",
    "classifier_linear.fit(x_train, y_train)"
   ]
  },
  {
   "cell_type": "markdown",
   "id": "33d9fed7",
   "metadata": {},
   "source": [
    "#### 4.4.1. Testing the model"
   ]
  },
  {
   "cell_type": "code",
   "execution_count": 67,
   "id": "ca41a032",
   "metadata": {},
   "outputs": [],
   "source": [
    "predict_dev = classifier_linear.predict(x_dev)"
   ]
  },
  {
   "cell_type": "markdown",
   "id": "b0b369dd",
   "metadata": {},
   "source": [
    "#### 4.4.2. Evaluation"
   ]
  },
  {
   "cell_type": "code",
   "execution_count": 68,
   "id": "a0b5b074",
   "metadata": {},
   "outputs": [
    {
     "name": "stdout",
     "output_type": "stream",
     "text": [
      "              precision    recall  f1-score   support\n",
      "\n",
      "       Anger       0.35      0.59      0.44       211\n",
      "Anticipation       0.42      0.49      0.45       170\n",
      "     Disgust       0.10      0.04      0.06        77\n",
      "        Fear       0.41      0.21      0.28       104\n",
      "         Joy       0.43      0.40      0.42        97\n",
      "     Sadness       0.35      0.29      0.31        87\n",
      "    Surprise       0.34      0.23      0.27        96\n",
      "       Trust       0.41      0.35      0.38       158\n",
      "\n",
      "    accuracy                           0.37      1000\n",
      "   macro avg       0.35      0.32      0.33      1000\n",
      "weighted avg       0.37      0.37      0.36      1000\n",
      "\n"
     ]
    }
   ],
   "source": [
    "print(classification_report(y_dev, predict_dev, target_names=emotions.values()))"
   ]
  },
  {
   "cell_type": "code",
   "execution_count": 69,
   "id": "dc15b16f",
   "metadata": {},
   "outputs": [
    {
     "data": {
      "text/plain": [
       "array([[124,  44,  37,  33,  12,  31,  36,  40],\n",
       "       [ 24,  83,  10,  13,  18,   9,  13,  27],\n",
       "       [ 11,   4,   3,   2,   3,   2,   1,   3],\n",
       "       [  9,   4,   6,  22,   1,   5,   4,   3],\n",
       "       [  1,   8,   4,   5,  39,   8,   6,  19],\n",
       "       [ 16,   3,   6,   4,   6,  25,   7,   5],\n",
       "       [ 10,   8,   3,   8,   6,   3,  22,   5],\n",
       "       [ 16,  16,   8,  17,  12,   4,   7,  56]])"
      ]
     },
     "execution_count": 69,
     "metadata": {},
     "output_type": "execute_result"
    }
   ],
   "source": [
    "confusion_matrix(predict_dev, y_dev)"
   ]
  },
  {
   "cell_type": "code",
   "execution_count": 70,
   "id": "8429e9b3",
   "metadata": {},
   "outputs": [
    {
     "data": {
      "image/png": "[encoded data removed]",
      "text/plain": [
       "<Figure size 432x288 with 2 Axes>"
      ]
     },
     "metadata": {
      "needs_background": "light"
     },
     "output_type": "display_data"
    }
   ],
   "source": [
    "plot_cm(confusion_matrix(predict_dev, y_dev), emotions.values())"
   ]
  },
  {
   "cell_type": "markdown",
   "id": "a1851ffe",
   "metadata": {},
   "source": [
    "#### 4.4.3. Checking overfitting"
   ]
  },
  {
   "cell_type": "code",
   "execution_count": 71,
   "id": "be76e6dd",
   "metadata": {},
   "outputs": [
    {
     "data": {
      "text/plain": [
       "(0.5045, 0.374)"
      ]
     },
     "execution_count": 71,
     "metadata": {},
     "output_type": "execute_result"
    }
   ],
   "source": [
    "checking_overfitting(classifier_linear)"
   ]
  },
  {
   "cell_type": "code",
   "execution_count": null,
   "id": "68696b0d",
   "metadata": {},
   "outputs": [],
   "source": []
  }
 ],
 "metadata": {
  "colab": {
   "collapsed_sections": [],
   "name": "project.ipynb",
   "provenance": []
  },
  "kernelspec": {
   "display_name": "Python 3 (ipykernel)",
   "language": "python",
   "name": "python3"
  },
  "language_info": {
   "codemirror_mode": {
    "name": "ipython",
    "version": 3
   },
   "file_extension": ".py",
   "mimetype": "text/x-python",
   "name": "python",
   "nbconvert_exporter": "python",
   "pygments_lexer": "ipython3",
   "version": "3.9.12"
  }
 },
 "nbformat": 4,
 "nbformat_minor": 5
}
